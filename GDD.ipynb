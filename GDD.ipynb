{
 "cells": [
  {
   "cell_type": "code",
   "execution_count": 1,
   "metadata": {},
   "outputs": [],
   "source": [
    "import numpy as np\n",
    "import pandas as pd\n",
    "import xarray as xr\n",
    "import cartopy.crs as ccrs\n",
    "from datetime import datetime\n",
    "import matplotlib.pyplot as plt\n",
    "import dataset_fctns, plotting\n",
    "import copy"
   ]
  },
  {
   "cell_type": "code",
   "execution_count": 2,
   "metadata": {},
   "outputs": [],
   "source": [
    "def phase_dependent_response(driver_values, t_dev, responses, thresholds):\n",
    "    #Thresholds are the thresholds in development time where the different growth phases change\n",
    "    #Responses are the response functions, index starting at 'before the first threshold'\n",
    "    #driver values are the inputs to the response function\n",
    "    #t_dev is the (cts) development time\n",
    "    phase = np.digitize(t_dev, thresholds)\n",
    "    response = np.zeros(driver_values.shape)\n",
    "    for phase_index in range(len(responses)):\n",
    "        response += (phase == phase_index)*responses[phase_index](driver_values) #First brackets indicates if we are at the right phase, second takes the response function for each phase\n",
    "    return response"
   ]
  },
  {
   "cell_type": "code",
   "execution_count": 3,
   "metadata": {},
   "outputs": [],
   "source": [
    "def get_nearest_elements(x, y, ds):\n",
    "    #Interpolates the input array onto the (non-gridded e.g. phenology station) coordinates x and y.\n",
    "    #Note hyras is not stored on the full grid, but on some kind of subset. Not quite sure how this works. Just got to hope the stations are in a hyras gridpoint.\n",
    "    X_for_interp = xr.DataArray(x, dims=\"modelpoint\")\n",
    "    Y_for_interp = xr.DataArray(y, dims=\"modelpoint\")\n",
    "    return ds.interp(x=X_for_interp, y=Y_for_interp)#, kwargs={\"fill_value\": None})"
   ]
  },
  {
   "cell_type": "code",
   "execution_count": 4,
   "metadata": {},
   "outputs": [],
   "source": [
    "def latlon_to_projection(x_coords, y_coords):\n",
    "    proj_epsg = ccrs.epsg(3034)\n",
    "    proj_latlon = ccrs.PlateCarree()\n",
    "    points_epsg = proj_epsg.transform_points(proj_latlon, x_coords, y_coords)\n",
    "    x_epsg = points_epsg[:, 0]\n",
    "    y_epsg = points_epsg[:, 1]\n",
    "    return x_epsg, y_epsg"
   ]
  },
  {
   "cell_type": "code",
   "execution_count": 22,
   "metadata": {},
   "outputs": [],
   "source": [
    "def make_input_array(emergence_times, station_ids, reference_years, x_coords, y_coords, ds_driver):\n",
    "    #Put in transforming to the right coords here x\n",
    "    print('project to new coords')\n",
    "    \n",
    "    x_epsg, y_epsg = latlon_to_projection(x_coords, y_coords)\n",
    "    print('interpolate driver to station locations')\n",
    "    ds_driver_interp = get_nearest_elements(x_epsg, y_epsg, ds_driver)\n",
    "    ds_driver_interp['emergence_dates'] = ((\"modelpoint\"), emergence_times)\n",
    "    ds_driver_interp['Stations_id'] = ((\"modelpoint\"), station_ids)\n",
    "    ds_driver_interp['Referenzjahr'] = ((\"modelpoint\"), reference_years)\n",
    "    ds_driver_interp = ds_driver_interp.assign_coords(modelpoint=np.arange(ds_driver_interp.sizes['modelpoint']))\n",
    "    return ds_driver_interp#.dropna(dim='modelpoint')\n"
   ]
  },
  {
   "cell_type": "code",
   "execution_count": 148,
   "metadata": {},
   "outputs": [],
   "source": [
    "def dev_under_response(response, ds_driver, driver_variable, maturity_t_dev):\n",
    "    # Response is the rate response to driver values. Driver values are the input to this response. Maturity_t_dev is the t_dev value where we should stop running.\n",
    "    # Put in the date as (day, month, year)\n",
    "    t_dev = np.zeros(ds_driver[driver_variable].isel(time=0).values.shape) #Continuous development time. When this passes through some thresholds then have change in phase.\n",
    "    dev_time_series = [t_dev.copy()]\n",
    "    #i_day = np.datetime64(f'{emergence_date[2]}-{str(emergence_date[1]).zfill(2)}-{str(emergence_date[0]).zfill(2)}')\n",
    "    i_day = ds_driver['emergence_dates'].values.copy()\n",
    "    i_day = i_day + np.timedelta64(12, 'h') #so that times are at midday rather than midnight\n",
    "    time_indexer = xr.DataArray(i_day, dims=[\"modelpoint\"])\n",
    "    ds_driver.sel(time=time_indexer, method='nearest')\n",
    "    day_count = 0\n",
    "    while day_count < 365:#while np.sum(t_dev < maturity_t_dev) > 0.05*len(ds_driver['modelpoint']):\n",
    "        print(day_count)\n",
    "        #driver_values = ds_driver.sel(time=np.datetime_as_string(i_day, unit='D')).squeeze().values\n",
    "        driver_values = ds_driver.sel(time=time_indexer, method='nearest')[driver_variable].values\n",
    "        #print(t_dev[t_dev<maturity_t_dev])\n",
    "        print(len(driver_values[t_dev<maturity_t_dev]))\n",
    "        t_dev += response(driver_values, t_dev) #Rate of change of development stage\n",
    "        dev_time_series.append(t_dev.copy())\n",
    "        i_day += np.timedelta64(1,'D')\n",
    "        day_count += 1\n",
    "    return np.stack(dev_time_series)"
   ]
  },
  {
   "cell_type": "code",
   "execution_count": 7,
   "metadata": {},
   "outputs": [],
   "source": [
    "def get_phase_dates(dev_time_series, thresholds):\n",
    "    phase_dates_array = np.zeros((len(thresholds), dev_time_series.shape[1]))\n",
    "    for obs_index in range(dev_time_series.shape[1]):\n",
    "        phase_dates_array[:, obs_index] = np.digitize(thresholds, dev_time_series[:, obs_index]) #Note that the thresholds are NOT the bins for numpy digitize!\n",
    "    return phase_dates_array"
   ]
  },
  {
   "cell_type": "code",
   "execution_count": 67,
   "metadata": {},
   "outputs": [],
   "source": [
    "def get_modelled_dataset(ds_driver, phase_times, phase_list = []):\n",
    "    reference_years = np.int64(ds_driver['Referenzjahr'].values)\n",
    "    Stations_id = np.int64(ds_driver['Stations_id'].values)\n",
    "    if len(phase_list) == 0:\n",
    "        computed_phases = [f'modelled time emergence to phase {i + 1}' for i in range(phase_times.shape[0])]\n",
    "    else:\n",
    "        computed_phases = [f'modelled time emergence to {phase}' for phase in phase_list]\n",
    "    data_comparison = {'Stations_id': Stations_id,\n",
    "                       'Referenzjahr': reference_years,\n",
    "                       }\n",
    "    ds_comparison = pd.DataFrame(data_comparison)\n",
    "    for phase_index, phase in enumerate(computed_phases):\n",
    "        ds_comparison[phase] = phase_times[phase_index, :]\n",
    "    ds_comparison.set_index(['Stations_id', 'Referenzjahr'], inplace=True)\n",
    "    return ds_comparison"
   ]
  },
  {
   "cell_type": "markdown",
   "metadata": {},
   "source": [
    "# NOTE \n",
    "Issue with duplicates was just from quality checking"
   ]
  },
  {
   "cell_type": "code",
   "execution_count": 121,
   "metadata": {},
   "outputs": [],
   "source": [
    "def get_observed_dataset(ds_verification, phase_list):\n",
    "    observed_to_first_stage = dataset_fctns.time_stage_to_stage(phen_data_maize, 'beginning of emergence', phase_list[0]).dropna()\n",
    "    ds_observed = pd.DataFrame({f'observed time emergence to {phase_list[0]}': observed_to_first_stage})\n",
    "    for phase in phase_list[1:]:\n",
    "        ds_observed[f'observed time emergence to {phase}'] = dataset_fctns.time_stage_to_stage(ds_verification, 'beginning of emergence', phase).dropna()\n",
    "    return ds_observed"
   ]
  },
  {
   "cell_type": "code",
   "execution_count": 162,
   "metadata": {},
   "outputs": [
    {
     "name": "stdout",
     "output_type": "stream",
     "text": [
      "\n",
      "\n"
     ]
    }
   ],
   "source": [
    "phen_data_maize = phen_data_maize.where(phen_data_maize['Qualitaetsniveau'] == 10).dropna()\n",
    "ds_observed = get_observed_dataset(phen_data_maize, ['beginning of flowering', 'yellow ripeness'])"
   ]
  },
  {
   "cell_type": "code",
   "execution_count": 163,
   "metadata": {},
   "outputs": [],
   "source": [
    "model_times = get_modelled_dataset(ds_driver, phase_times, phase_list=['beginning of flowering', 'yellow ripeness'])\n",
    "full_dataset = pd.concat([model_times, ds_observed], axis = 1)"
   ]
  },
  {
   "cell_type": "code",
   "execution_count": 23,
   "metadata": {},
   "outputs": [
    {
     "name": "stderr",
     "output_type": "stream",
     "text": [
      "C:\\Users\\wlwc1989\\AppData\\Local\\Temp\\ipykernel_6496\\585534896.py:5: ParserWarning: Falling back to the 'python' engine because the 'c' engine does not support regex separators (separators > 1 char and different from '\\s+' are interpreted as regex); you can avoid this warning by specifying engine='python'.\n",
      "  station_data = pd.read_csv(\"https://opendata.dwd.de/climate_environment/CDC/help/PH_Beschreibung_Phaenologie_Stationen_Jahresmelder.txt\",sep = \";\\s+|;\\t+|;\\s+\\t+|;\\t+\\s+|;|\\s+;|\\t+;|\\s+\\t+;|\\t+\\s+;\", encoding='cp1252', on_bad_lines='skip')\n"
     ]
    },
    {
     "name": "stdout",
     "output_type": "stream",
     "text": [
      "project to new coords\n",
      "interpolate driver to station locations\n"
     ]
    }
   ],
   "source": [
    "## READ IN DATA ##\n",
    "ds_mean = xr.open_dataset('C:\\\\Users\\\\wlwc1989\\\\Documents\\\\Phenology_Test_Notebooks\\\\phenology_dwd\\\\Saved_files\\\\tas_hyras_5_1951_2020_v5-0_de.nc')\n",
    "phen_data_maize = dataset_fctns.read_phen_dataset(\"C:\\\\Users\\\\wlwc1989\\\\Documents\\\\Phenology_Test_Notebooks\\\\phenology_dwd\\\\Saved_files\\\\PH_Jahresmelder_Landwirtschaft_Kulturpflanze_Mais_1936_2023_hist.txt\", drop_list = ['Unnamed: 9'])\n",
    "phase_names = pd.read_csv(\"https://opendata.dwd.de/climate_environment/CDC/help/PH_Beschreibung_Phase.txt\", encoding = \"latin1\", engine='python', sep = r';\\s+|;\\t+|;\\s+\\t+|;\\t+\\s+|;|\\s+;|\\t+;|\\s+\\t+;|\\t+\\s+;')\n",
    "station_data = pd.read_csv(\"https://opendata.dwd.de/climate_environment/CDC/help/PH_Beschreibung_Phaenologie_Stationen_Jahresmelder.txt\",sep = \";\\s+|;\\t+|;\\s+\\t+|;\\t+\\s+|;|\\s+;|\\t+;|\\s+\\t+;|\\t+\\s+;\", encoding='cp1252', on_bad_lines='skip')\n",
    "station_data = station_data.drop('Unnamed: 12', axis = 1)\n",
    "## READ IN DATA FOR PHASE NAMES IN ORDER ##\n",
    "#print(phase_names['Phase_ID'])\n",
    "phen_data_maize = dataset_fctns.add_locations(phen_data_maize, station_data)\n",
    "phen_data_maize = dataset_fctns.phase_order_name(phen_data_maize, phase_names, [10, 12, 67, 65, 5, 6, 19, 20, 21, 24, ])\n",
    "phen_data_maize = dataset_fctns.order_phen_dataset(phen_data_maize)\n",
    "#phen_data_wheat = dataset_fctns.add_locations(phen_data_wheat, station_data)\n",
    "#phen_data_wheat = dataset_fctns.phase_order_name(phen_data_wheat, phase_names, [10, 12, 15, 18, 19, 21, 22, 23, 24, ])\n",
    "#phen_data_wheat = dataset_fctns.order_phen_dataset(phen_data_wheat)\n",
    "just_emergence_phen_data = phen_data_maize.where(phen_data_maize['Name of phase'] == 'beginning of emergence').dropna()\n",
    "just_emergence_phen_data = just_emergence_phen_data.where(just_emergence_phen_data['Eintrittsdatum'] > np.datetime64('2005-01-01')).dropna()\n",
    "emergences = just_emergence_phen_data['Eintrittsdatum'].values\n",
    "station_ids = just_emergence_phen_data['Stations_id'].values\n",
    "reference_years = just_emergence_phen_data['Referenzjahr'].values\n",
    "x_coords = just_emergence_phen_data['lon'].values\n",
    "y_coords = just_emergence_phen_data['lat'].values\n",
    "ds_driver = make_input_array(emergences, station_ids, reference_years, x_coords, y_coords, ds_mean)"
   ]
  },
  {
   "cell_type": "code",
   "execution_count": 2,
   "metadata": {},
   "outputs": [],
   "source": [
    "def Wang_Engel_Temp_response(T, T_min, T_opt, T_max, beta = 1):\n",
    "    alpha = np.log(2)/np.log( (T_max - T_min)/(T_opt - T_min) )\n",
    "    f_T = ( ( (2*(T - T_min)**alpha)*((T_opt - T_min)**alpha) - ((T - T_min)**(2*alpha)) ) / ((T_opt - T_min)**(2*alpha)) )**beta\n",
    "    f_T = np.nan_to_num(f_T)\n",
    "    return f_T*(T >= T_min)*(T<= T_max)"
   ]
  },
  {
   "cell_type": "code",
   "execution_count": 15,
   "metadata": {},
   "outputs": [],
   "source": [
    "def Trapezoid_Temp_response(T, T_min, T_opt1, T_opt2, T_max):\n",
    "    pre_opt = (T>=T_min)*(T<=T_opt1)\n",
    "    opt = (T>=T_opt1)*(T<=T_opt2)\n",
    "    post_opt = (T>=T_opt2)*(T<=T_max)\n",
    "    return pre_opt*(T - T_min)/(T_opt1 - T_min) + opt + post_opt*(T_max - T)/(T_max - T_opt2)"
   ]
  },
  {
   "cell_type": "code",
   "execution_count": 4,
   "metadata": {},
   "outputs": [
    {
     "name": "stderr",
     "output_type": "stream",
     "text": [
      "C:\\Users\\wlwc1989\\AppData\\Local\\Temp\\ipykernel_10828\\2397755492.py:3: RuntimeWarning: invalid value encountered in power\n",
      "  f_T = ( ( (2*(T - T_min)**alpha)*((T_opt - T_min)**alpha) - ((T - T_min)**(2*alpha)) ) / ((T_opt - T_min)**(2*alpha)) )**beta\n"
     ]
    },
    {
     "data": {
      "image/png": "[encoded data removed]",
      "text/plain": [
       "<Figure size 640x480 with 1 Axes>"
      ]
     },
     "metadata": {},
     "output_type": "display_data"
    }
   ],
   "source": [
    "x = np.linspace(-20, 60, 200)\n",
    "y = Wang_Engel_Temp_response(x, 0, 27.5, 40)\n",
    "plt.plot(x, y)\n",
    "plt.title('Wang Engel Curve')\n",
    "plt.xlabel('Degrees C')\n",
    "plt.ylabel('Temp response (pre-anthesis)')\n",
    "plt.savefig('C:\\\\Users\\\\wlwc1989\\\\Documents\\\\Phenology_Test_Notebooks\\\\phenology_dwd\\\\plots\\\\wangengel.png')"
   ]
  },
  {
   "cell_type": "code",
   "execution_count": 17,
   "metadata": {},
   "outputs": [
    {
     "data": {
      "text/plain": [
       "[<matplotlib.lines.Line2D at 0x1c34e0a0990>]"
      ]
     },
     "execution_count": 17,
     "metadata": {},
     "output_type": "execute_result"
    },
    {
     "data": {
      "image/png": "[encoded data removed]",
      "text/plain": [
       "<Figure size 640x480 with 1 Axes>"
      ]
     },
     "metadata": {},
     "output_type": "display_data"
    }
   ],
   "source": [
    "x = np.linspace(-20, 60, 200)\n",
    "#y = Wang_Engel_Temp_response(x, 0, 27.5, 40)\n",
    "y = Trapezoid_Temp_response(x, 0, 21.5, 32.5, 40)\n",
    "plt.plot(x, y)"
   ]
  },
  {
   "cell_type": "code",
   "execution_count": null,
   "metadata": {},
   "outputs": [],
   "source": [
    "resps = [lambda x: Wang_Engel_Temp_response(x, 0, 27.5, 40), lambda x: Wang_Engel_Temp_response(x, 0, 33, 44)]\n",
    "thresholds = [45, 65]\n",
    "ds_driver = ds_driver.dropna(dim='modelpoint')\n",
    "prediction = dev_under_response(lambda x, y: phase_dependent_response(x, y, resps, thresholds), \n",
    "                                ds_driver, 'tas', thresholds[-1])\n",
    "phase_times = get_phase_dates(prediction, thresholds)"
   ]
  },
  {
   "cell_type": "markdown",
   "metadata": {},
   "source": [
    "Make a dataset with predicted flowering times and actual flowering times, predicted maturity times and actual maturity times. Then get RMSE. Make a clause that if a phase takes longer than 300 then 'not achieved'.\n",
    "\n",
    "Index result dataset by 'Stations_id' and 'Referenzjahr'.\n",
    "Then make a new dataset with the existing functions."
   ]
  },
  {
   "cell_type": "code",
   "execution_count": null,
   "metadata": {},
   "outputs": [],
   "source": [
    "## Test that indexing is working well ##\n",
    "i_day = ds_driver['emergence_dates'].values.copy()\n",
    "for obs_index, day in enumerate(i_day):\n",
    "    print(day, ds_driver['tas'].sel(time=day, modelpoint=obs_index).values)\n",
    "time_indexer = xr.DataArray(i_day, dims=[\"modelpoint\"])\n",
    "ds_driver.sel(time=time_indexer, method='nearest')"
   ]
  }
 ],
 "metadata": {
  "kernelspec": {
   "display_name": "Phenology",
   "language": "python",
   "name": "python3"
  },
  "language_info": {
   "codemirror_mode": {
    "name": "ipython",
    "version": 3
   },
   "file_extension": ".py",
   "mimetype": "text/x-python",
   "name": "python",
   "nbconvert_exporter": "python",
   "pygments_lexer": "ipython3",
   "version": "3.11.10"
  }
 },
 "nbformat": 4,
 "nbformat_minor": 2
}
