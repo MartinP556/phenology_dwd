{
 "cells": [
  {
   "cell_type": "code",
   "execution_count": 1,
   "metadata": {},
   "outputs": [],
   "source": [
    "import openeo"
   ]
  },
  {
   "cell_type": "code",
   "execution_count": 1,
   "metadata": {},
   "outputs": [],
   "source": [
    "import openeo\n",
    "#import xarray as xr"
   ]
  },
  {
   "cell_type": "code",
   "execution_count": null,
   "metadata": {},
   "outputs": [
    {
     "name": "stdout",
     "output_type": "stream",
     "text": [
      "Authenticated using refresh token.\n"
     ]
    }
   ],
   "source": [
    "connection = openeo.connect('earthengine.openeo.org/v1.0').authenticate_oidc(client_id='1029015703668-btbgi4lvp2q35g08fugsauds97sutnfd.apps.googleusercontent.com',\n",
    "                                                                             client_secret='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')"
   ]
  },
  {
   "cell_type": "code",
   "execution_count": 2,
   "metadata": {},
   "outputs": [
    {
     "name": "stdout",
     "output_type": "stream",
     "text": [
      "Authenticated using refresh token.\n"
     ]
    }
   ],
   "source": [
    "#connection = openeo.connect('https://openeocloud.vito.be/openeo/1.0.0').authenticate_oidc()\n",
    "connection = openeo.connect(\"openeo.dataspace.copernicus.eu/openeo/1.2\").authenticate_oidc()"
   ]
  },
  {
   "cell_type": "code",
   "execution_count": 3,
   "metadata": {},
   "outputs": [],
   "source": [
    "latlonIDs = [[54.3167,10.05,7504.0], [54.4333,9.8167,7521.0], [53.95,10.6833,7539.0]]\n"
   ]
  },
  {
   "cell_type": "code",
   "execution_count": 4,
   "metadata": {},
   "outputs": [],
   "source": [
    "def datacube_location_list(coords_list, IDs_list):\n",
    "    locs_for_datacube =   { \"type\": \"FeatureCollection\",\n",
    "        \"features\": []\n",
    "    }\n",
    "    for coord_index, coords in enumerate(coords_list):\n",
    "        locs_for_datacube[\"features\"].append({\"type\": \"Feature\", \"properties\": {'name':IDs_list[coord_index]}, \"geometry\": {\"type\": \"Point\", \"coordinates\": coords[:2]}})\n",
    "    return locs_for_datacube"
   ]
  },
  {
   "cell_type": "code",
   "execution_count": 5,
   "metadata": {},
   "outputs": [],
   "source": [
    "def datacube_box(coords, ID, box_width=0.002):\n",
    "    locs_for_datacube =   { \"type\": \"Polygon\",\n",
    "                           \"properties\": {'name':ID},\n",
    "                           \"coordinates\": [[[coords[1] - box_width, coords[0] - box_width], \n",
    "                                           [coords[1] - box_width, coords[0] + box_width], \n",
    "                                           [coords[1] + box_width, coords[0] + box_width], \n",
    "                                           [coords[1] + box_width, coords[0] - box_width], \n",
    "                                           [coords[1] - box_width, coords[0] - box_width]]],\n",
    "    }\n",
    "    #for coord_index, coords in enumerate(coords_list):\n",
    "    #    locs_for_datacube[\"features\"].append({\"type\": \"Feature\", \"properties\": {'name':IDs_list[coord_index]}, \"geometry\": {\"type\": \"Polygon\", \"coordinates\": [[coords[1] - box_width, coords[0] - box_width], [coords[1] - box_width, coords[0] + box_width], [coords[1] + box_width, coords[0] + box_width], [coords[1] + box_width, coords[0] - box_width]]}})\n",
    "    return locs_for_datacube"
   ]
  },
  {
   "cell_type": "code",
   "execution_count": null,
   "metadata": {},
   "outputs": [],
   "source": [
    "locs = datacube_location_list(latlonIDs, [coords[2] for coords in latlonIDs])"
   ]
  },
  {
   "cell_type": "code",
   "execution_count": null,
   "metadata": {},
   "outputs": [
    {
     "data": {
      "text/plain": [
       "{'type': 'FeatureCollection',\n",
       " 'features': [{'type': 'Feature',\n",
       "   'properties': {'name': 7504.0},\n",
       "   'geometry': {'type': 'Polygon',\n",
       "    'coordinates': [[10.048, 54.314699999999995],\n",
       "     [10.048, 54.3187],\n",
       "     [10.052000000000001, 54.3187],\n",
       "     [10.052000000000001, 54.314699999999995]]}},\n",
       "  {'type': 'Feature',\n",
       "   'properties': {'name': 7521.0},\n",
       "   'geometry': {'type': 'Polygon',\n",
       "    'coordinates': [[9.8147, 54.4313],\n",
       "     [9.8147, 54.435300000000005],\n",
       "     [9.818700000000002, 54.435300000000005],\n",
       "     [9.818700000000002, 54.4313]]}},\n",
       "  {'type': 'Feature',\n",
       "   'properties': {'name': 7539.0},\n",
       "   'geometry': {'type': 'Polygon',\n",
       "    'coordinates': [[10.681299999999998, 53.948],\n",
       "     [10.681299999999998, 53.952000000000005],\n",
       "     [10.6853, 53.952000000000005],\n",
       "     [10.6853, 53.948]]}}]}"
      ]
     },
     "metadata": {},
     "output_type": "display_data"
    }
   ],
   "source": [
    "locs"
   ]
  },
  {
   "cell_type": "code",
   "execution_count": 6,
   "metadata": {},
   "outputs": [
    {
     "data": {
      "text/plain": [
       "[[54.3167, 10.05, 7504.0], [54.4333, 9.8167, 7521.0], [53.95, 10.6833, 7539.0]]"
      ]
     },
     "execution_count": 6,
     "metadata": {},
     "output_type": "execute_result"
    }
   ],
   "source": [
    "latlonIDs"
   ]
  },
  {
   "cell_type": "code",
   "execution_count": null,
   "metadata": {},
   "outputs": [
    {
     "name": "stdout",
     "output_type": "stream",
     "text": [
      "0:00:00 Job 'j-241212969ae042a6a2bf9f43b9fec117': send 'start'\n",
      "0:00:16 Job 'j-241212969ae042a6a2bf9f43b9fec117': created (progress 0%)\n",
      "0:00:21 Job 'j-241212969ae042a6a2bf9f43b9fec117': created (progress 0%)\n",
      "0:00:28 Job 'j-241212969ae042a6a2bf9f43b9fec117': created (progress 0%)\n",
      "0:00:36 Job 'j-241212969ae042a6a2bf9f43b9fec117': created (progress 0%)\n",
      "0:00:46 Job 'j-241212969ae042a6a2bf9f43b9fec117': created (progress 0%)\n",
      "0:00:58 Job 'j-241212969ae042a6a2bf9f43b9fec117': created (progress 0%)\n",
      "0:01:13 Job 'j-241212969ae042a6a2bf9f43b9fec117': created (progress 0%)\n",
      "0:01:33 Job 'j-241212969ae042a6a2bf9f43b9fec117': created (progress 0%)\n",
      "0:01:57 Job 'j-241212969ae042a6a2bf9f43b9fec117': created (progress 0%)\n",
      "0:02:27 Job 'j-241212969ae042a6a2bf9f43b9fec117': created (progress 0%)\n",
      "0:03:04 Job 'j-241212969ae042a6a2bf9f43b9fec117': queued (progress 0%)\n",
      "0:03:51 Job 'j-241212969ae042a6a2bf9f43b9fec117': queued (progress 0%)\n",
      "0:04:57 Job 'j-241212969ae042a6a2bf9f43b9fec117': queued (progress 0%)\n",
      "0:05:57 Job 'j-241212969ae042a6a2bf9f43b9fec117': running (progress N/A)\n",
      "0:06:58 Job 'j-241212969ae042a6a2bf9f43b9fec117': running (progress N/A)\n",
      "0:07:58 Job 'j-241212969ae042a6a2bf9f43b9fec117': running (progress N/A)\n",
      "0:08:58 Job 'j-241212969ae042a6a2bf9f43b9fec117': running (progress N/A)\n",
      "0:09:58 Job 'j-241212969ae042a6a2bf9f43b9fec117': running (progress N/A)\n",
      "0:10:58 Job 'j-241212969ae042a6a2bf9f43b9fec117': running (progress N/A)\n",
      "0:11:58 Job 'j-241212969ae042a6a2bf9f43b9fec117': running (progress N/A)\n",
      "0:13:00 Job 'j-241212969ae042a6a2bf9f43b9fec117': running (progress N/A)\n",
      "0:14:00 Job 'j-241212969ae042a6a2bf9f43b9fec117': running (progress N/A)\n",
      "0:15:00 Job 'j-241212969ae042a6a2bf9f43b9fec117': running (progress N/A)\n",
      "0:16:01 Job 'j-241212969ae042a6a2bf9f43b9fec117': running (progress N/A)\n",
      "0:17:01 Job 'j-241212969ae042a6a2bf9f43b9fec117': running (progress N/A)\n",
      "0:18:01 Job 'j-241212969ae042a6a2bf9f43b9fec117': running (progress N/A)\n",
      "0:19:01 Job 'j-241212969ae042a6a2bf9f43b9fec117': finished (progress 100%)\n"
     ]
    }
   ],
   "source": [
    "for location in latlonIDs[:1]:\n",
    "    #locs_for_datacube = {\"type\": \"Point\", \"properties\": {'name':int(location[2])}, \"coordinates\": location[:2]}\n",
    "    locs_for_datacube = datacube_location_list([location], [int(location[2])])\n",
    "    datacube = connection.load_collection(\n",
    "        \"SENTINEL2_L2A\",\n",
    "        #spatial_extent={\"west\": 5, \"south\": 47, \"east\": 16, \"north\": 56},\n",
    "        temporal_extent=[\"2000-01-01\", \"2020-12-31\"],\n",
    "        bands=[\"B04\", \"B08\"]\n",
    "        )\n",
    "    #datacube = connection.load_collection(\n",
    "    #    \"COPERNICUS/S2_SR_HARMONIZED\",\n",
    "    #    #spatial_extent={\"west\": 5, \"south\": 47, \"east\": 16, \"north\": 56},\n",
    "    #    temporal_extent=[\"2000-01-01\", \"2020-12-31\"],\n",
    "    #    bands=[\"B4\", \"B8\"]\n",
    "    #)\n",
    "    box_width = 0.002/2\n",
    "    #locationed = datacube.filter_bbox([location[1] - box_width, location[0] - box_width, location[1] + box_width, location[0] + box_width])\n",
    "    locationed = datacube.aggregate_spatial(geometries=datacube_box(location[:2], int(location[2]), box_width = box_width), reducer='mean')\n",
    "    res = locationed.save_result(format = \"NetCDF\", options = {'filename_prefix':f'Station_long_satellites_{int(location[2])}'})#format = \"GIF\", \n",
    "    #                             options = {'filename_prefix':f'Station_long_satellites_{int(location[2])}',\n",
    "    #                                        'collectionRenderer':'filmstrip'})\n",
    "    #job = locationed.create_job(title=f'Station_satellites_{int(location[2])}',\n",
    "    #    description=\"Sentinel-2 L2A bands\",\n",
    "    #    out_format=\"NetCDF\",\n",
    "    #    options = {'filename_prefix':f'Station_satellites_{int(location[2])}'}\n",
    "    #    )\n",
    "    job = res.execute_batch(title=f'Station_long_satellites_{int(location[2])}')\n",
    "    jobbed = job.download_results(\"C:\\\\Users\\\\wlwc1989\\\\Documents\\\\Phenology_Test_Notebooks\\\\phenology_dwd\\\\downloads\")\n",
    "    #job.start()"
   ]
  },
  {
   "cell_type": "code",
   "execution_count": 19,
   "metadata": {},
   "outputs": [
    {
     "name": "stderr",
     "output_type": "stream",
     "text": [
      "Failed to parse API error response: [404] '{\"error\":\"RESTEASY003210: Could not find resource for full path: https://auth.apps.eo4eu.eu/auth/realms/EO4EU/account/.well-known/openeo\"}' (headers: {'date': 'Thu, 12 Dec 2024 11:38:19 GMT', 'content-type': 'application/json', 'content-length': '138', 'x-xss-protection': '1; mode=block', 'x-frame-options': 'SAMEORIGIN', 'referrer-policy': 'no-referrer', 'strict-transport-security': 'max-age=31536000; includeSubDomains', 'x-content-type-options': 'nosniff'})\n"
     ]
    },
    {
     "ename": "JSONDecodeError",
     "evalue": "Expecting value: line 1 column 1 (char 0)",
     "output_type": "error",
     "traceback": [
      "\u001b[1;31m---------------------------------------------------------------------------\u001b[0m",
      "\u001b[1;31mJSONDecodeError\u001b[0m                           Traceback (most recent call last)",
      "File \u001b[1;32mc:\\ProgramData\\anaconda3\\envs\\Phenology\\Lib\\site-packages\\requests\\models.py:974\u001b[0m, in \u001b[0;36mResponse.json\u001b[1;34m(self, **kwargs)\u001b[0m\n\u001b[0;32m    973\u001b[0m \u001b[38;5;28;01mtry\u001b[39;00m:\n\u001b[1;32m--> 974\u001b[0m     \u001b[38;5;28;01mreturn\u001b[39;00m complexjson\u001b[38;5;241m.\u001b[39mloads(\u001b[38;5;28mself\u001b[39m\u001b[38;5;241m.\u001b[39mtext, \u001b[38;5;241m*\u001b[39m\u001b[38;5;241m*\u001b[39mkwargs)\n\u001b[0;32m    975\u001b[0m \u001b[38;5;28;01mexcept\u001b[39;00m JSONDecodeError \u001b[38;5;28;01mas\u001b[39;00m e:\n\u001b[0;32m    976\u001b[0m     \u001b[38;5;66;03m# Catch JSON-related errors and raise as requests.JSONDecodeError\u001b[39;00m\n\u001b[0;32m    977\u001b[0m     \u001b[38;5;66;03m# This aliases json.JSONDecodeError and simplejson.JSONDecodeError\u001b[39;00m\n",
      "File \u001b[1;32mc:\\ProgramData\\anaconda3\\envs\\Phenology\\Lib\\json\\__init__.py:346\u001b[0m, in \u001b[0;36mloads\u001b[1;34m(s, cls, object_hook, parse_float, parse_int, parse_constant, object_pairs_hook, **kw)\u001b[0m\n\u001b[0;32m    343\u001b[0m \u001b[38;5;28;01mif\u001b[39;00m (\u001b[38;5;28mcls\u001b[39m \u001b[38;5;129;01mis\u001b[39;00m \u001b[38;5;28;01mNone\u001b[39;00m \u001b[38;5;129;01mand\u001b[39;00m object_hook \u001b[38;5;129;01mis\u001b[39;00m \u001b[38;5;28;01mNone\u001b[39;00m \u001b[38;5;129;01mand\u001b[39;00m\n\u001b[0;32m    344\u001b[0m         parse_int \u001b[38;5;129;01mis\u001b[39;00m \u001b[38;5;28;01mNone\u001b[39;00m \u001b[38;5;129;01mand\u001b[39;00m parse_float \u001b[38;5;129;01mis\u001b[39;00m \u001b[38;5;28;01mNone\u001b[39;00m \u001b[38;5;129;01mand\u001b[39;00m\n\u001b[0;32m    345\u001b[0m         parse_constant \u001b[38;5;129;01mis\u001b[39;00m \u001b[38;5;28;01mNone\u001b[39;00m \u001b[38;5;129;01mand\u001b[39;00m object_pairs_hook \u001b[38;5;129;01mis\u001b[39;00m \u001b[38;5;28;01mNone\u001b[39;00m \u001b[38;5;129;01mand\u001b[39;00m \u001b[38;5;129;01mnot\u001b[39;00m kw):\n\u001b[1;32m--> 346\u001b[0m     \u001b[38;5;28;01mreturn\u001b[39;00m _default_decoder\u001b[38;5;241m.\u001b[39mdecode(s)\n\u001b[0;32m    347\u001b[0m \u001b[38;5;28;01mif\u001b[39;00m \u001b[38;5;28mcls\u001b[39m \u001b[38;5;129;01mis\u001b[39;00m \u001b[38;5;28;01mNone\u001b[39;00m:\n",
      "File \u001b[1;32mc:\\ProgramData\\anaconda3\\envs\\Phenology\\Lib\\json\\decoder.py:337\u001b[0m, in \u001b[0;36mJSONDecoder.decode\u001b[1;34m(self, s, _w)\u001b[0m\n\u001b[0;32m    333\u001b[0m \u001b[38;5;250m\u001b[39m\u001b[38;5;124;03m\"\"\"Return the Python representation of ``s`` (a ``str`` instance\u001b[39;00m\n\u001b[0;32m    334\u001b[0m \u001b[38;5;124;03mcontaining a JSON document).\u001b[39;00m\n\u001b[0;32m    335\u001b[0m \n\u001b[0;32m    336\u001b[0m \u001b[38;5;124;03m\"\"\"\u001b[39;00m\n\u001b[1;32m--> 337\u001b[0m obj, end \u001b[38;5;241m=\u001b[39m \u001b[38;5;28mself\u001b[39m\u001b[38;5;241m.\u001b[39mraw_decode(s, idx\u001b[38;5;241m=\u001b[39m_w(s, \u001b[38;5;241m0\u001b[39m)\u001b[38;5;241m.\u001b[39mend())\n\u001b[0;32m    338\u001b[0m end \u001b[38;5;241m=\u001b[39m _w(s, end)\u001b[38;5;241m.\u001b[39mend()\n",
      "File \u001b[1;32mc:\\ProgramData\\anaconda3\\envs\\Phenology\\Lib\\json\\decoder.py:355\u001b[0m, in \u001b[0;36mJSONDecoder.raw_decode\u001b[1;34m(self, s, idx)\u001b[0m\n\u001b[0;32m    354\u001b[0m \u001b[38;5;28;01mexcept\u001b[39;00m \u001b[38;5;167;01mStopIteration\u001b[39;00m \u001b[38;5;28;01mas\u001b[39;00m err:\n\u001b[1;32m--> 355\u001b[0m     \u001b[38;5;28;01mraise\u001b[39;00m JSONDecodeError(\u001b[38;5;124m\"\u001b[39m\u001b[38;5;124mExpecting value\u001b[39m\u001b[38;5;124m\"\u001b[39m, s, err\u001b[38;5;241m.\u001b[39mvalue) \u001b[38;5;28;01mfrom\u001b[39;00m \u001b[38;5;28;01mNone\u001b[39;00m\n\u001b[0;32m    356\u001b[0m \u001b[38;5;28;01mreturn\u001b[39;00m obj, end\n",
      "\u001b[1;31mJSONDecodeError\u001b[0m: Expecting value: line 1 column 1 (char 0)",
      "\nDuring handling of the above exception, another exception occurred:\n",
      "\u001b[1;31mJSONDecodeError\u001b[0m                           Traceback (most recent call last)",
      "Cell \u001b[1;32mIn[19], line 1\u001b[0m\n\u001b[1;32m----> 1\u001b[0m connection \u001b[38;5;241m=\u001b[39m openeo\u001b[38;5;241m.\u001b[39mconnect(\u001b[38;5;124m'\u001b[39m\u001b[38;5;124mhttps://auth.apps.eo4eu.eu/auth/realms/EO4EU/account/\u001b[39m\u001b[38;5;124m'\u001b[39m)\u001b[38;5;241m.\u001b[39mauthenticate_oidc()\n",
      "File \u001b[1;32mc:\\ProgramData\\anaconda3\\envs\\Phenology\\Lib\\site-packages\\openeo\\rest\\connection.py:1953\u001b[0m, in \u001b[0;36mconnect\u001b[1;34m(url, auth_type, auth_options, session, default_timeout, auto_validate)\u001b[0m\n\u001b[0;32m   1951\u001b[0m \u001b[38;5;28;01mif\u001b[39;00m \u001b[38;5;129;01mnot\u001b[39;00m url:\n\u001b[0;32m   1952\u001b[0m     \u001b[38;5;28;01mraise\u001b[39;00m OpenEoClientException(\u001b[38;5;124m\"\u001b[39m\u001b[38;5;124mNo openEO back-end URL given or known to connect to.\u001b[39m\u001b[38;5;124m\"\u001b[39m)\n\u001b[1;32m-> 1953\u001b[0m connection \u001b[38;5;241m=\u001b[39m Connection(url, session\u001b[38;5;241m=\u001b[39msession, default_timeout\u001b[38;5;241m=\u001b[39mdefault_timeout, auto_validate\u001b[38;5;241m=\u001b[39mauto_validate)\n\u001b[0;32m   1955\u001b[0m auth_type \u001b[38;5;241m=\u001b[39m auth_type\u001b[38;5;241m.\u001b[39mlower() \u001b[38;5;28;01mif\u001b[39;00m \u001b[38;5;28misinstance\u001b[39m(auth_type, \u001b[38;5;28mstr\u001b[39m) \u001b[38;5;28;01melse\u001b[39;00m auth_type\n\u001b[0;32m   1956\u001b[0m \u001b[38;5;28;01mif\u001b[39;00m auth_type \u001b[38;5;129;01min\u001b[39;00m {\u001b[38;5;28;01mNone\u001b[39;00m, \u001b[38;5;28;01mFalse\u001b[39;00m, \u001b[38;5;124m'\u001b[39m\u001b[38;5;124mnull\u001b[39m\u001b[38;5;124m'\u001b[39m, \u001b[38;5;124m'\u001b[39m\u001b[38;5;124mnone\u001b[39m\u001b[38;5;124m'\u001b[39m}:\n",
      "File \u001b[1;32mc:\\ProgramData\\anaconda3\\envs\\Phenology\\Lib\\site-packages\\openeo\\rest\\connection.py:331\u001b[0m, in \u001b[0;36mConnection.__init__\u001b[1;34m(self, url, session, default_timeout, auto_validate, slow_response_threshold, auth_config, refresh_token_store, oidc_auth_renewer, auth)\u001b[0m\n\u001b[0;32m    328\u001b[0m \u001b[38;5;28mself\u001b[39m\u001b[38;5;241m.\u001b[39m_capabilities_cache \u001b[38;5;241m=\u001b[39m LazyLoadCache()\n\u001b[0;32m    330\u001b[0m \u001b[38;5;66;03m# Initial API version check.\u001b[39;00m\n\u001b[1;32m--> 331\u001b[0m \u001b[38;5;28mself\u001b[39m\u001b[38;5;241m.\u001b[39m_api_version\u001b[38;5;241m.\u001b[39mrequire_at_least(\u001b[38;5;28mself\u001b[39m\u001b[38;5;241m.\u001b[39m_MINIMUM_API_VERSION)\n\u001b[0;32m    333\u001b[0m \u001b[38;5;28mself\u001b[39m\u001b[38;5;241m.\u001b[39m_auth_config \u001b[38;5;241m=\u001b[39m auth_config\n\u001b[0;32m    334\u001b[0m \u001b[38;5;28mself\u001b[39m\u001b[38;5;241m.\u001b[39m_refresh_token_store \u001b[38;5;241m=\u001b[39m refresh_token_store\n",
      "File \u001b[1;32mc:\\ProgramData\\anaconda3\\envs\\Phenology\\Lib\\site-packages\\openeo\\rest\\connection.py:1153\u001b[0m, in \u001b[0;36mConnection._api_version\u001b[1;34m(self)\u001b[0m\n\u001b[0;32m   1150\u001b[0m \u001b[38;5;129m@property\u001b[39m\n\u001b[0;32m   1151\u001b[0m \u001b[38;5;28;01mdef\u001b[39;00m \u001b[38;5;21m_api_version\u001b[39m(\u001b[38;5;28mself\u001b[39m) \u001b[38;5;241m-\u001b[39m\u001b[38;5;241m>\u001b[39m ComparableVersion:\n\u001b[0;32m   1152\u001b[0m     \u001b[38;5;66;03m# TODO make this a public property (it's also useful outside the Connection class)\u001b[39;00m\n\u001b[1;32m-> 1153\u001b[0m     \u001b[38;5;28;01mreturn\u001b[39;00m \u001b[38;5;28mself\u001b[39m\u001b[38;5;241m.\u001b[39mcapabilities()\u001b[38;5;241m.\u001b[39mapi_version_check\n",
      "File \u001b[1;32mc:\\ProgramData\\anaconda3\\envs\\Phenology\\Lib\\site-packages\\openeo\\rest\\connection.py:897\u001b[0m, in \u001b[0;36mConnection.capabilities\u001b[1;34m(self)\u001b[0m\n\u001b[0;32m    893\u001b[0m \u001b[38;5;28;01mdef\u001b[39;00m \u001b[38;5;21mcapabilities\u001b[39m(\u001b[38;5;28mself\u001b[39m) \u001b[38;5;241m-\u001b[39m\u001b[38;5;241m>\u001b[39m RESTCapabilities:\n\u001b[0;32m    894\u001b[0m \u001b[38;5;250m    \u001b[39m\u001b[38;5;124;03m\"\"\"\u001b[39;00m\n\u001b[0;32m    895\u001b[0m \u001b[38;5;124;03m    Loads all available capabilities.\u001b[39;00m\n\u001b[0;32m    896\u001b[0m \u001b[38;5;124;03m    \"\"\"\u001b[39;00m\n\u001b[1;32m--> 897\u001b[0m     \u001b[38;5;28;01mreturn\u001b[39;00m \u001b[38;5;28mself\u001b[39m\u001b[38;5;241m.\u001b[39m_capabilities_cache\u001b[38;5;241m.\u001b[39mget(\n\u001b[0;32m    898\u001b[0m         \u001b[38;5;124m\"\u001b[39m\u001b[38;5;124mcapabilities\u001b[39m\u001b[38;5;124m\"\u001b[39m,\n\u001b[0;32m    899\u001b[0m         load\u001b[38;5;241m=\u001b[39m\u001b[38;5;28;01mlambda\u001b[39;00m: RESTCapabilities(data\u001b[38;5;241m=\u001b[39m\u001b[38;5;28mself\u001b[39m\u001b[38;5;241m.\u001b[39mget(\u001b[38;5;124m'\u001b[39m\u001b[38;5;124m/\u001b[39m\u001b[38;5;124m'\u001b[39m, expected_status\u001b[38;5;241m=\u001b[39m\u001b[38;5;241m200\u001b[39m)\u001b[38;5;241m.\u001b[39mjson(), url\u001b[38;5;241m=\u001b[39m\u001b[38;5;28mself\u001b[39m\u001b[38;5;241m.\u001b[39m_orig_url)\n\u001b[0;32m    900\u001b[0m     )\n",
      "File \u001b[1;32mc:\\ProgramData\\anaconda3\\envs\\Phenology\\Lib\\site-packages\\openeo\\util.py:476\u001b[0m, in \u001b[0;36mLazyLoadCache.get\u001b[1;34m(self, key, load)\u001b[0m\n\u001b[0;32m    474\u001b[0m \u001b[38;5;28;01mdef\u001b[39;00m \u001b[38;5;21mget\u001b[39m(\u001b[38;5;28mself\u001b[39m, key: Union[\u001b[38;5;28mstr\u001b[39m, \u001b[38;5;28mtuple\u001b[39m], load: Callable[[], Any]):\n\u001b[0;32m    475\u001b[0m     \u001b[38;5;28;01mif\u001b[39;00m key \u001b[38;5;129;01mnot\u001b[39;00m \u001b[38;5;129;01min\u001b[39;00m \u001b[38;5;28mself\u001b[39m\u001b[38;5;241m.\u001b[39m_cache:\n\u001b[1;32m--> 476\u001b[0m         \u001b[38;5;28mself\u001b[39m\u001b[38;5;241m.\u001b[39m_cache[key] \u001b[38;5;241m=\u001b[39m load()\n\u001b[0;32m    477\u001b[0m     \u001b[38;5;28;01mreturn\u001b[39;00m \u001b[38;5;28mself\u001b[39m\u001b[38;5;241m.\u001b[39m_cache[key]\n",
      "File \u001b[1;32mc:\\ProgramData\\anaconda3\\envs\\Phenology\\Lib\\site-packages\\openeo\\rest\\connection.py:899\u001b[0m, in \u001b[0;36mConnection.capabilities.<locals>.<lambda>\u001b[1;34m()\u001b[0m\n\u001b[0;32m    893\u001b[0m \u001b[38;5;28;01mdef\u001b[39;00m \u001b[38;5;21mcapabilities\u001b[39m(\u001b[38;5;28mself\u001b[39m) \u001b[38;5;241m-\u001b[39m\u001b[38;5;241m>\u001b[39m RESTCapabilities:\n\u001b[0;32m    894\u001b[0m \u001b[38;5;250m    \u001b[39m\u001b[38;5;124;03m\"\"\"\u001b[39;00m\n\u001b[0;32m    895\u001b[0m \u001b[38;5;124;03m    Loads all available capabilities.\u001b[39;00m\n\u001b[0;32m    896\u001b[0m \u001b[38;5;124;03m    \"\"\"\u001b[39;00m\n\u001b[0;32m    897\u001b[0m     \u001b[38;5;28;01mreturn\u001b[39;00m \u001b[38;5;28mself\u001b[39m\u001b[38;5;241m.\u001b[39m_capabilities_cache\u001b[38;5;241m.\u001b[39mget(\n\u001b[0;32m    898\u001b[0m         \u001b[38;5;124m\"\u001b[39m\u001b[38;5;124mcapabilities\u001b[39m\u001b[38;5;124m\"\u001b[39m,\n\u001b[1;32m--> 899\u001b[0m         load\u001b[38;5;241m=\u001b[39m\u001b[38;5;28;01mlambda\u001b[39;00m: RESTCapabilities(data\u001b[38;5;241m=\u001b[39m\u001b[38;5;28mself\u001b[39m\u001b[38;5;241m.\u001b[39mget(\u001b[38;5;124m'\u001b[39m\u001b[38;5;124m/\u001b[39m\u001b[38;5;124m'\u001b[39m, expected_status\u001b[38;5;241m=\u001b[39m\u001b[38;5;241m200\u001b[39m)\u001b[38;5;241m.\u001b[39mjson(), url\u001b[38;5;241m=\u001b[39m\u001b[38;5;28mself\u001b[39m\u001b[38;5;241m.\u001b[39m_orig_url)\n\u001b[0;32m    900\u001b[0m     )\n",
      "File \u001b[1;32mc:\\ProgramData\\anaconda3\\envs\\Phenology\\Lib\\site-packages\\requests\\models.py:978\u001b[0m, in \u001b[0;36mResponse.json\u001b[1;34m(self, **kwargs)\u001b[0m\n\u001b[0;32m    974\u001b[0m     \u001b[38;5;28;01mreturn\u001b[39;00m complexjson\u001b[38;5;241m.\u001b[39mloads(\u001b[38;5;28mself\u001b[39m\u001b[38;5;241m.\u001b[39mtext, \u001b[38;5;241m*\u001b[39m\u001b[38;5;241m*\u001b[39mkwargs)\n\u001b[0;32m    975\u001b[0m \u001b[38;5;28;01mexcept\u001b[39;00m JSONDecodeError \u001b[38;5;28;01mas\u001b[39;00m e:\n\u001b[0;32m    976\u001b[0m     \u001b[38;5;66;03m# Catch JSON-related errors and raise as requests.JSONDecodeError\u001b[39;00m\n\u001b[0;32m    977\u001b[0m     \u001b[38;5;66;03m# This aliases json.JSONDecodeError and simplejson.JSONDecodeError\u001b[39;00m\n\u001b[1;32m--> 978\u001b[0m     \u001b[38;5;28;01mraise\u001b[39;00m RequestsJSONDecodeError(e\u001b[38;5;241m.\u001b[39mmsg, e\u001b[38;5;241m.\u001b[39mdoc, e\u001b[38;5;241m.\u001b[39mpos)\n",
      "\u001b[1;31mJSONDecodeError\u001b[0m: Expecting value: line 1 column 1 (char 0)"
     ]
    }
   ],
   "source": [
    "connection = openeo.connect('https://umm-api.dev.wekeo.apps.eo4eu.eu/EO').authenticate_oidc()"
   ]
  },
  {
   "cell_type": "code",
   "execution_count": 14,
   "metadata": {},
   "outputs": [],
   "source": [
    "latlonIDs = [[54.3167,10.05,7504.0], [54.4333,9.8167,7521.0], [53.95,10.6833,7539.0]]"
   ]
  },
  {
   "cell_type": "code",
   "execution_count": 17,
   "metadata": {},
   "outputs": [
    {
     "ename": "OpenEoApiError",
     "evalue": "[500] Internal: Server error: Problems during authentication: not enough values to unpack (expected 2, got 1)",
     "output_type": "error",
     "traceback": [
      "\u001b[1;31m---------------------------------------------------------------------------\u001b[0m",
      "\u001b[1;31mOpenEoApiError\u001b[0m                            Traceback (most recent call last)",
      "Cell \u001b[1;32mIn[17], line 27\u001b[0m\n\u001b[0;32m     19\u001b[0m res \u001b[38;5;241m=\u001b[39m locationed\u001b[38;5;241m.\u001b[39msave_result(\u001b[38;5;28mformat\u001b[39m \u001b[38;5;241m=\u001b[39m \u001b[38;5;124m\"\u001b[39m\u001b[38;5;124mNetCDF\u001b[39m\u001b[38;5;124m\"\u001b[39m, options \u001b[38;5;241m=\u001b[39m {\u001b[38;5;124m'\u001b[39m\u001b[38;5;124mfilename_prefix\u001b[39m\u001b[38;5;124m'\u001b[39m:\u001b[38;5;124mf\u001b[39m\u001b[38;5;124m'\u001b[39m\u001b[38;5;124mStation_tsco_satellites_\u001b[39m\u001b[38;5;132;01m{\u001b[39;00m\u001b[38;5;28mint\u001b[39m(location[\u001b[38;5;241m2\u001b[39m])\u001b[38;5;132;01m}\u001b[39;00m\u001b[38;5;124m'\u001b[39m})\u001b[38;5;66;03m#format = \"GIF\", \u001b[39;00m\n\u001b[0;32m     20\u001b[0m \u001b[38;5;66;03m#                             options = {'filename_prefix':f'Station_long_satellites_{int(location[2])}',\u001b[39;00m\n\u001b[0;32m     21\u001b[0m \u001b[38;5;66;03m#                                        'collectionRenderer':'filmstrip'})\u001b[39;00m\n\u001b[0;32m     22\u001b[0m \u001b[38;5;66;03m#job = locationed.create_job(title=f'Station_satellites_{int(location[2])}',\u001b[39;00m\n\u001b[1;32m   (...)\u001b[0m\n\u001b[0;32m     25\u001b[0m \u001b[38;5;66;03m#    options = {'filename_prefix':f'Station_satellites_{int(location[2])}'}\u001b[39;00m\n\u001b[0;32m     26\u001b[0m \u001b[38;5;66;03m#    )\u001b[39;00m\n\u001b[1;32m---> 27\u001b[0m job \u001b[38;5;241m=\u001b[39m res\u001b[38;5;241m.\u001b[39mexecute_batch(title\u001b[38;5;241m=\u001b[39m\u001b[38;5;124mf\u001b[39m\u001b[38;5;124m'\u001b[39m\u001b[38;5;124mStation_long_satellites_\u001b[39m\u001b[38;5;132;01m{\u001b[39;00m\u001b[38;5;28mint\u001b[39m(location[\u001b[38;5;241m2\u001b[39m])\u001b[38;5;132;01m}\u001b[39;00m\u001b[38;5;124m'\u001b[39m)\n\u001b[0;32m     28\u001b[0m jobbed \u001b[38;5;241m=\u001b[39m job\u001b[38;5;241m.\u001b[39mdownload_results(\u001b[38;5;124m\"\u001b[39m\u001b[38;5;124mC:\u001b[39m\u001b[38;5;130;01m\\\\\u001b[39;00m\u001b[38;5;124mUsers\u001b[39m\u001b[38;5;130;01m\\\\\u001b[39;00m\u001b[38;5;124mwlwc1989\u001b[39m\u001b[38;5;130;01m\\\\\u001b[39;00m\u001b[38;5;124mDocuments\u001b[39m\u001b[38;5;130;01m\\\\\u001b[39;00m\u001b[38;5;124mPhenology_Test_Notebooks\u001b[39m\u001b[38;5;130;01m\\\\\u001b[39;00m\u001b[38;5;124mphenology_dwd\u001b[39m\u001b[38;5;130;01m\\\\\u001b[39;00m\u001b[38;5;124mdownloads\u001b[39m\u001b[38;5;124m\"\u001b[39m)\n",
      "File \u001b[1;32mc:\\ProgramData\\anaconda3\\envs\\Phenology\\Lib\\site-packages\\openeo\\rest\\datacube.py:2411\u001b[0m, in \u001b[0;36mDataCube.execute_batch\u001b[1;34m(self, outputfile, out_format, title, description, plan, budget, print, max_poll_interval, connection_retry_interval, job_options, validate, auto_add_save_result, **format_options)\u001b[0m\n\u001b[0;32m   2401\u001b[0m \u001b[38;5;28;01mif\u001b[39;00m auto_add_save_result:\n\u001b[0;32m   2402\u001b[0m     cube \u001b[38;5;241m=\u001b[39m _ensure_save_result(\n\u001b[0;32m   2403\u001b[0m         cube\u001b[38;5;241m=\u001b[39mcube,\n\u001b[0;32m   2404\u001b[0m         \u001b[38;5;28mformat\u001b[39m\u001b[38;5;241m=\u001b[39mout_format,\n\u001b[1;32m   (...)\u001b[0m\n\u001b[0;32m   2408\u001b[0m         method\u001b[38;5;241m=\u001b[39m\u001b[38;5;124m\"\u001b[39m\u001b[38;5;124mDataCube.execute_batch()\u001b[39m\u001b[38;5;124m\"\u001b[39m,\n\u001b[0;32m   2409\u001b[0m     )\n\u001b[1;32m-> 2411\u001b[0m job \u001b[38;5;241m=\u001b[39m cube\u001b[38;5;241m.\u001b[39mcreate_job(\n\u001b[0;32m   2412\u001b[0m     title\u001b[38;5;241m=\u001b[39mtitle,\n\u001b[0;32m   2413\u001b[0m     description\u001b[38;5;241m=\u001b[39mdescription,\n\u001b[0;32m   2414\u001b[0m     plan\u001b[38;5;241m=\u001b[39mplan,\n\u001b[0;32m   2415\u001b[0m     budget\u001b[38;5;241m=\u001b[39mbudget,\n\u001b[0;32m   2416\u001b[0m     job_options\u001b[38;5;241m=\u001b[39mjob_options,\n\u001b[0;32m   2417\u001b[0m     validate\u001b[38;5;241m=\u001b[39mvalidate,\n\u001b[0;32m   2418\u001b[0m     auto_add_save_result\u001b[38;5;241m=\u001b[39m\u001b[38;5;28;01mFalse\u001b[39;00m,\n\u001b[0;32m   2419\u001b[0m )\n\u001b[0;32m   2420\u001b[0m \u001b[38;5;28;01mreturn\u001b[39;00m job\u001b[38;5;241m.\u001b[39mrun_synchronous(\n\u001b[0;32m   2421\u001b[0m     outputfile\u001b[38;5;241m=\u001b[39moutputfile,\n\u001b[0;32m   2422\u001b[0m     \u001b[38;5;28mprint\u001b[39m\u001b[38;5;241m=\u001b[39m\u001b[38;5;28mprint\u001b[39m, max_poll_interval\u001b[38;5;241m=\u001b[39mmax_poll_interval, connection_retry_interval\u001b[38;5;241m=\u001b[39mconnection_retry_interval\n\u001b[0;32m   2423\u001b[0m )\n",
      "File \u001b[1;32mc:\\ProgramData\\anaconda3\\envs\\Phenology\\Lib\\site-packages\\openeo\\rest\\datacube.py:2475\u001b[0m, in \u001b[0;36mDataCube.create_job\u001b[1;34m(self, out_format, title, description, plan, budget, job_options, validate, auto_add_save_result, **format_options)\u001b[0m\n\u001b[0;32m   2467\u001b[0m \u001b[38;5;28;01mif\u001b[39;00m auto_add_save_result:\n\u001b[0;32m   2468\u001b[0m     cube \u001b[38;5;241m=\u001b[39m _ensure_save_result(\n\u001b[0;32m   2469\u001b[0m         cube\u001b[38;5;241m=\u001b[39mcube,\n\u001b[0;32m   2470\u001b[0m         \u001b[38;5;28mformat\u001b[39m\u001b[38;5;241m=\u001b[39mout_format,\n\u001b[1;32m   (...)\u001b[0m\n\u001b[0;32m   2473\u001b[0m         method\u001b[38;5;241m=\u001b[39m\u001b[38;5;124m\"\u001b[39m\u001b[38;5;124mDataCube.create_job()\u001b[39m\u001b[38;5;124m\"\u001b[39m,\n\u001b[0;32m   2474\u001b[0m     )\n\u001b[1;32m-> 2475\u001b[0m \u001b[38;5;28;01mreturn\u001b[39;00m \u001b[38;5;28mself\u001b[39m\u001b[38;5;241m.\u001b[39m_connection\u001b[38;5;241m.\u001b[39mcreate_job(\n\u001b[0;32m   2476\u001b[0m     process_graph\u001b[38;5;241m=\u001b[39mcube\u001b[38;5;241m.\u001b[39mflat_graph(),\n\u001b[0;32m   2477\u001b[0m     title\u001b[38;5;241m=\u001b[39mtitle,\n\u001b[0;32m   2478\u001b[0m     description\u001b[38;5;241m=\u001b[39mdescription,\n\u001b[0;32m   2479\u001b[0m     plan\u001b[38;5;241m=\u001b[39mplan,\n\u001b[0;32m   2480\u001b[0m     budget\u001b[38;5;241m=\u001b[39mbudget,\n\u001b[0;32m   2481\u001b[0m     validate\u001b[38;5;241m=\u001b[39mvalidate,\n\u001b[0;32m   2482\u001b[0m     additional\u001b[38;5;241m=\u001b[39mjob_options,\n\u001b[0;32m   2483\u001b[0m )\n",
      "File \u001b[1;32mc:\\ProgramData\\anaconda3\\envs\\Phenology\\Lib\\site-packages\\openeo\\rest\\connection.py:1793\u001b[0m, in \u001b[0;36mConnection.create_job\u001b[1;34m(self, process_graph, title, description, plan, budget, additional, validate)\u001b[0m\n\u001b[0;32m   1790\u001b[0m     pg_with_metadata[\u001b[38;5;124m\"\u001b[39m\u001b[38;5;124mjob_options\u001b[39m\u001b[38;5;124m\"\u001b[39m] \u001b[38;5;241m=\u001b[39m additional\n\u001b[0;32m   1792\u001b[0m \u001b[38;5;28mself\u001b[39m\u001b[38;5;241m.\u001b[39m_preflight_validation(pg_with_metadata\u001b[38;5;241m=\u001b[39mpg_with_metadata, validate\u001b[38;5;241m=\u001b[39mvalidate)\n\u001b[1;32m-> 1793\u001b[0m response \u001b[38;5;241m=\u001b[39m \u001b[38;5;28mself\u001b[39m\u001b[38;5;241m.\u001b[39mpost(\u001b[38;5;124m\"\u001b[39m\u001b[38;5;124m/jobs\u001b[39m\u001b[38;5;124m\"\u001b[39m, json\u001b[38;5;241m=\u001b[39mpg_with_metadata, expected_status\u001b[38;5;241m=\u001b[39m\u001b[38;5;241m201\u001b[39m)\n\u001b[0;32m   1795\u001b[0m job_id \u001b[38;5;241m=\u001b[39m \u001b[38;5;28;01mNone\u001b[39;00m\n\u001b[0;32m   1796\u001b[0m \u001b[38;5;28;01mif\u001b[39;00m \u001b[38;5;124m\"\u001b[39m\u001b[38;5;124mopeneo-identifier\u001b[39m\u001b[38;5;124m\"\u001b[39m \u001b[38;5;129;01min\u001b[39;00m response\u001b[38;5;241m.\u001b[39mheaders:\n",
      "File \u001b[1;32mc:\\ProgramData\\anaconda3\\envs\\Phenology\\Lib\\site-packages\\openeo\\rest\\connection.py:249\u001b[0m, in \u001b[0;36mRestApiConnection.post\u001b[1;34m(self, path, json, **kwargs)\u001b[0m\n\u001b[0;32m    241\u001b[0m \u001b[38;5;28;01mdef\u001b[39;00m \u001b[38;5;21mpost\u001b[39m(\u001b[38;5;28mself\u001b[39m, path: \u001b[38;5;28mstr\u001b[39m, json: Optional[\u001b[38;5;28mdict\u001b[39m] \u001b[38;5;241m=\u001b[39m \u001b[38;5;28;01mNone\u001b[39;00m, \u001b[38;5;241m*\u001b[39m\u001b[38;5;241m*\u001b[39mkwargs) \u001b[38;5;241m-\u001b[39m\u001b[38;5;241m>\u001b[39m Response:\n\u001b[0;32m    242\u001b[0m \u001b[38;5;250m    \u001b[39m\u001b[38;5;124;03m\"\"\"\u001b[39;00m\n\u001b[0;32m    243\u001b[0m \u001b[38;5;124;03m    Do POST request to REST API.\u001b[39;00m\n\u001b[0;32m    244\u001b[0m \n\u001b[1;32m   (...)\u001b[0m\n\u001b[0;32m    247\u001b[0m \u001b[38;5;124;03m    :return: response: Response\u001b[39;00m\n\u001b[0;32m    248\u001b[0m \u001b[38;5;124;03m    \"\"\"\u001b[39;00m\n\u001b[1;32m--> 249\u001b[0m     \u001b[38;5;28;01mreturn\u001b[39;00m \u001b[38;5;28mself\u001b[39m\u001b[38;5;241m.\u001b[39mrequest(\u001b[38;5;124m\"\u001b[39m\u001b[38;5;124mpost\u001b[39m\u001b[38;5;124m\"\u001b[39m, path\u001b[38;5;241m=\u001b[39mpath, json\u001b[38;5;241m=\u001b[39mjson, allow_redirects\u001b[38;5;241m=\u001b[39m\u001b[38;5;28;01mFalse\u001b[39;00m, \u001b[38;5;241m*\u001b[39m\u001b[38;5;241m*\u001b[39mkwargs)\n",
      "File \u001b[1;32mc:\\ProgramData\\anaconda3\\envs\\Phenology\\Lib\\site-packages\\openeo\\rest\\connection.py:831\u001b[0m, in \u001b[0;36mConnection.request\u001b[1;34m(self, method, path, headers, auth, check_error, expected_status, **kwargs)\u001b[0m\n\u001b[0;32m    824\u001b[0m     \u001b[38;5;28;01mreturn\u001b[39;00m \u001b[38;5;28msuper\u001b[39m(Connection, \u001b[38;5;28mself\u001b[39m)\u001b[38;5;241m.\u001b[39mrequest(\n\u001b[0;32m    825\u001b[0m         method\u001b[38;5;241m=\u001b[39mmethod, path\u001b[38;5;241m=\u001b[39mpath, headers\u001b[38;5;241m=\u001b[39mheaders, auth\u001b[38;5;241m=\u001b[39mauth,\n\u001b[0;32m    826\u001b[0m         check_error\u001b[38;5;241m=\u001b[39mcheck_error, expected_status\u001b[38;5;241m=\u001b[39mexpected_status, \u001b[38;5;241m*\u001b[39m\u001b[38;5;241m*\u001b[39mkwargs,\n\u001b[0;32m    827\u001b[0m     )\n\u001b[0;32m    829\u001b[0m \u001b[38;5;28;01mtry\u001b[39;00m:\n\u001b[0;32m    830\u001b[0m     \u001b[38;5;66;03m# Initial request attempt\u001b[39;00m\n\u001b[1;32m--> 831\u001b[0m     \u001b[38;5;28;01mreturn\u001b[39;00m _request()\n\u001b[0;32m    832\u001b[0m \u001b[38;5;28;01mexcept\u001b[39;00m OpenEoApiError \u001b[38;5;28;01mas\u001b[39;00m api_exc:\n\u001b[0;32m    833\u001b[0m     \u001b[38;5;28;01mif\u001b[39;00m api_exc\u001b[38;5;241m.\u001b[39mhttp_status_code \u001b[38;5;129;01min\u001b[39;00m {\u001b[38;5;241m401\u001b[39m, \u001b[38;5;241m403\u001b[39m} \u001b[38;5;129;01mand\u001b[39;00m api_exc\u001b[38;5;241m.\u001b[39mcode \u001b[38;5;241m==\u001b[39m \u001b[38;5;124m\"\u001b[39m\u001b[38;5;124mTokenInvalid\u001b[39m\u001b[38;5;124m\"\u001b[39m:\n\u001b[0;32m    834\u001b[0m         \u001b[38;5;66;03m# Auth token expired: can we refresh?\u001b[39;00m\n",
      "File \u001b[1;32mc:\\ProgramData\\anaconda3\\envs\\Phenology\\Lib\\site-packages\\openeo\\rest\\connection.py:824\u001b[0m, in \u001b[0;36mConnection.request.<locals>._request\u001b[1;34m()\u001b[0m\n\u001b[0;32m    823\u001b[0m \u001b[38;5;28;01mdef\u001b[39;00m \u001b[38;5;21m_request\u001b[39m():\n\u001b[1;32m--> 824\u001b[0m     \u001b[38;5;28;01mreturn\u001b[39;00m \u001b[38;5;28msuper\u001b[39m(Connection, \u001b[38;5;28mself\u001b[39m)\u001b[38;5;241m.\u001b[39mrequest(\n\u001b[0;32m    825\u001b[0m         method\u001b[38;5;241m=\u001b[39mmethod, path\u001b[38;5;241m=\u001b[39mpath, headers\u001b[38;5;241m=\u001b[39mheaders, auth\u001b[38;5;241m=\u001b[39mauth,\n\u001b[0;32m    826\u001b[0m         check_error\u001b[38;5;241m=\u001b[39mcheck_error, expected_status\u001b[38;5;241m=\u001b[39mexpected_status, \u001b[38;5;241m*\u001b[39m\u001b[38;5;241m*\u001b[39mkwargs,\n\u001b[0;32m    827\u001b[0m     )\n",
      "File \u001b[1;32mc:\\ProgramData\\anaconda3\\envs\\Phenology\\Lib\\site-packages\\openeo\\rest\\connection.py:187\u001b[0m, in \u001b[0;36mRestApiConnection.request\u001b[1;34m(self, method, path, headers, auth, check_error, expected_status, **kwargs)\u001b[0m\n\u001b[0;32m    185\u001b[0m expected_status \u001b[38;5;241m=\u001b[39m ensure_list(expected_status) \u001b[38;5;28;01mif\u001b[39;00m expected_status \u001b[38;5;28;01melse\u001b[39;00m []\n\u001b[0;32m    186\u001b[0m \u001b[38;5;28;01mif\u001b[39;00m check_error \u001b[38;5;129;01mand\u001b[39;00m status \u001b[38;5;241m>\u001b[39m\u001b[38;5;241m=\u001b[39m \u001b[38;5;241m400\u001b[39m \u001b[38;5;129;01mand\u001b[39;00m status \u001b[38;5;129;01mnot\u001b[39;00m \u001b[38;5;129;01min\u001b[39;00m expected_status:\n\u001b[1;32m--> 187\u001b[0m     \u001b[38;5;28mself\u001b[39m\u001b[38;5;241m.\u001b[39m_raise_api_error(resp)\n\u001b[0;32m    188\u001b[0m \u001b[38;5;28;01mif\u001b[39;00m expected_status \u001b[38;5;129;01mand\u001b[39;00m status \u001b[38;5;129;01mnot\u001b[39;00m \u001b[38;5;129;01min\u001b[39;00m expected_status:\n\u001b[0;32m    189\u001b[0m     \u001b[38;5;28;01mraise\u001b[39;00m OpenEoRestError(\u001b[38;5;124m\"\u001b[39m\u001b[38;5;124mGot status code \u001b[39m\u001b[38;5;132;01m{s!r}\u001b[39;00m\u001b[38;5;124m for `\u001b[39m\u001b[38;5;132;01m{m}\u001b[39;00m\u001b[38;5;124m \u001b[39m\u001b[38;5;132;01m{p}\u001b[39;00m\u001b[38;5;124m` (expected \u001b[39m\u001b[38;5;132;01m{e!r}\u001b[39;00m\u001b[38;5;124m) with body \u001b[39m\u001b[38;5;132;01m{body}\u001b[39;00m\u001b[38;5;124m\"\u001b[39m\u001b[38;5;241m.\u001b[39mformat(\n\u001b[0;32m    190\u001b[0m         m\u001b[38;5;241m=\u001b[39mmethod\u001b[38;5;241m.\u001b[39mupper(), p\u001b[38;5;241m=\u001b[39mpath, s\u001b[38;5;241m=\u001b[39mstatus, e\u001b[38;5;241m=\u001b[39mexpected_status, body\u001b[38;5;241m=\u001b[39mresp\u001b[38;5;241m.\u001b[39mtext)\n\u001b[0;32m    191\u001b[0m     )\n",
      "File \u001b[1;32mc:\\ProgramData\\anaconda3\\envs\\Phenology\\Lib\\site-packages\\openeo\\rest\\connection.py:207\u001b[0m, in \u001b[0;36mRestApiConnection._raise_api_error\u001b[1;34m(self, response)\u001b[0m\n\u001b[0;32m    205\u001b[0m     error_message \u001b[38;5;241m=\u001b[39m info\u001b[38;5;241m.\u001b[39mget(\u001b[38;5;124m\"\u001b[39m\u001b[38;5;124mmessage\u001b[39m\u001b[38;5;124m\"\u001b[39m)\n\u001b[0;32m    206\u001b[0m     \u001b[38;5;28;01mif\u001b[39;00m error_code \u001b[38;5;129;01mand\u001b[39;00m \u001b[38;5;28misinstance\u001b[39m(error_code, \u001b[38;5;28mstr\u001b[39m) \u001b[38;5;129;01mand\u001b[39;00m error_message \u001b[38;5;129;01mand\u001b[39;00m \u001b[38;5;28misinstance\u001b[39m(error_message, \u001b[38;5;28mstr\u001b[39m):\n\u001b[1;32m--> 207\u001b[0m         \u001b[38;5;28;01mraise\u001b[39;00m OpenEoApiError(\n\u001b[0;32m    208\u001b[0m             http_status_code\u001b[38;5;241m=\u001b[39mstatus_code,\n\u001b[0;32m    209\u001b[0m             code\u001b[38;5;241m=\u001b[39merror_code,\n\u001b[0;32m    210\u001b[0m             message\u001b[38;5;241m=\u001b[39merror_message,\n\u001b[0;32m    211\u001b[0m             \u001b[38;5;28mid\u001b[39m\u001b[38;5;241m=\u001b[39minfo\u001b[38;5;241m.\u001b[39mget(\u001b[38;5;124m\"\u001b[39m\u001b[38;5;124mid\u001b[39m\u001b[38;5;124m\"\u001b[39m),\n\u001b[0;32m    212\u001b[0m             url\u001b[38;5;241m=\u001b[39minfo\u001b[38;5;241m.\u001b[39mget(\u001b[38;5;124m\"\u001b[39m\u001b[38;5;124murl\u001b[39m\u001b[38;5;124m\"\u001b[39m),\n\u001b[0;32m    213\u001b[0m         )\n\u001b[0;32m    215\u001b[0m \u001b[38;5;66;03m# Failed to parse it as a compliant openEO API error: show body as-is in the exception.\u001b[39;00m\n\u001b[0;32m    216\u001b[0m text \u001b[38;5;241m=\u001b[39m response\u001b[38;5;241m.\u001b[39mtext\n",
      "\u001b[1;31mOpenEoApiError\u001b[0m: [500] Internal: Server error: Problems during authentication: not enough values to unpack (expected 2, got 1)"
     ]
    }
   ],
   "source": [
    "for location in latlonIDs[:1]:\n",
    "    #locs_for_datacube = {\"type\": \"Point\", \"properties\": {'name':int(location[2])}, \"coordinates\": location[:2]}\n",
    "    #locs_for_datacube = datacube_location_list([location], [int(location[2])])\n",
    "    datacube = connection.load_collection(\n",
    "        \"MODIS\",\n",
    "        #spatial_extent={\"west\": 5, \"south\": 47, \"east\": 16, \"north\": 56},\n",
    "        temporal_extent=[\"2019-01-01\", \"2019-06-30\"],\n",
    "        bands=[\"B01\", \"B02\"]\n",
    "        )\n",
    "    #datacube = connection.load_collection(\n",
    "    #    \"COPERNICUS/S2_SR_HARMONIZED\",\n",
    "    #    #spatial_extent={\"west\": 5, \"south\": 47, \"east\": 16, \"north\": 56},\n",
    "    #    temporal_extent=[\"2000-01-01\", \"2020-12-31\"],\n",
    "    #    bands=[\"B4\", \"B8\"]\n",
    "    #)\n",
    "    box_width = 0.01/2\n",
    "    locationed = datacube.filter_bbox([location[1] - box_width, location[0] - box_width, location[1] + box_width, location[0] + box_width])\n",
    "    #locationed = datacube.filter_spatial(geometries=datacube_box(location[:2], int(location[2]), box_width = 0.1))\n",
    "    res = locationed.save_result(format = \"NetCDF\", options = {'filename_prefix':f'Station_tsco_satellites_{int(location[2])}'})#format = \"GIF\", \n",
    "    #                             options = {'filename_prefix':f'Station_long_satellites_{int(location[2])}',\n",
    "    #                                        'collectionRenderer':'filmstrip'})\n",
    "    #job = locationed.create_job(title=f'Station_satellites_{int(location[2])}',\n",
    "    #    description=\"Sentinel-2 L2A bands\",\n",
    "    #    out_format=\"NetCDF\",\n",
    "    #    options = {'filename_prefix':f'Station_satellites_{int(location[2])}'}\n",
    "    #    )\n",
    "    job = res.execute_batch(title=f'Station_long_satellites_{int(location[2])}')\n",
    "    jobbed = job.download_results(\"C:\\\\Users\\\\wlwc1989\\\\Documents\\\\Phenology_Test_Notebooks\\\\phenology_dwd\\\\downloads\")\n",
    "    #job.start()"
   ]
  },
  {
   "cell_type": "code",
   "execution_count": null,
   "metadata": {},
   "outputs": [],
   "source": []
  }
 ],
 "metadata": {
  "kernelspec": {
   "display_name": "openEO",
   "language": "python",
   "name": "python3"
  },
  "language_info": {
   "codemirror_mode": {
    "name": "ipython",
    "version": 3
   },
   "file_extension": ".py",
   "mimetype": "text/x-python",
   "name": "python",
   "nbconvert_exporter": "python",
   "pygments_lexer": "ipython3",
   "version": "3.11.10"
  }
 },
 "nbformat": 4,
 "nbformat_minor": 2
}
