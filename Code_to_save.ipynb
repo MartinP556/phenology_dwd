{
 "cells": [
  {
   "cell_type": "code",
   "execution_count": null,
   "metadata": {},
   "outputs": [],
   "source": [
    "font_size = 19\n",
    "x = np.linspace(-20, 60, 200)\n",
    "y = modelling_fctns.Wang_Engel_Temp_response(x, 8, 28, 36)\n",
    "#y = Trapezoid_Temp_response(x, 0, 21.5, 32.5, 40)\n",
    "fig, ax = plt.subplots(figsize = (7, 5))\n",
    "ax.plot(x, y)\n",
    "ax.set_xlabel('Temperature in degrees C', fontsize = font_size)\n",
    "ax.set_ylabel('Response (scaled)', fontsize = font_size)\n",
    "ax.set_title('Temperature response', fontsize = font_size + 1)\n",
    "plt.xticks(fontsize = font_size - 4)\n",
    "plt.yticks(fontsize = font_size - 4)\n",
    "ax.set_xlim((0, 40))\n",
    "ax.axvline(x = 28, linestyle= 'dashed', color = 'black')"
   ]
  },
  {
   "cell_type": "code",
   "execution_count": null,
   "metadata": {},
   "outputs": [],
   "source": [
    "devtime2020 = Maize_set.GDD_driver_data.where((Maize_set.GDD_driver_data['Referenzjahr'] == 2007)*(Maize_set.GDD_driver_data['Stations_id'] == 11193), drop=True)['Development Time']\n",
    "driver2020 = Maize_set.GDD_driver_data.where((Maize_set.GDD_driver_data['Referenzjahr'] == 2007)*(Maize_set.GDD_driver_data['Stations_id'] == 11193), drop=True)['tas']\n",
    "realtime2020 = Maize_set.GDD_driver_data.where((Maize_set.GDD_driver_data['Referenzjahr'] == 2007)*(Maize_set.GDD_driver_data['Stations_id'] == 11193), drop=True)['time']\n",
    "font_size = 19\n",
    "fig, ax = plt.subplots(figsize = (7, 5))\n",
    "ax.plot(realtime2020, driver2020, label = 'Air temperature at site')\n",
    "ax.plot(realtime2020, devtime2020*12.5, label = 'Development time (scaled for comparison)')\n",
    "ax.set_xlim((realtime2020[0], realtime2020[120]))\n",
    "ax.set_ylim((0, 25.5))\n",
    "plt.xticks(rotation = 45, fontsize = font_size - 4)\n",
    "plt.yticks(fontsize = font_size - 4)\n",
    "ax.set_xlabel('Day of year', fontsize = font_size)\n",
    "ax.set_ylabel('Temperature in degrees C', fontsize = font_size)\n",
    "ax.set_title('Temperature compared to development time\\nat one station', fontsize = font_size + 1)"
   ]
  },
  {
   "cell_type": "code",
   "execution_count": null,
   "metadata": {},
   "outputs": [],
   "source": [
    "Maize_set.ds_observed.xs(19732, level=1, drop_level=False)#[:, 19732]#19914]\n",
    "#Maize_set.ds_observed.xs(1957, level=0, drop_level=False)"
   ]
  }
 ],
 "metadata": {
  "language_info": {
   "name": "python"
  }
 },
 "nbformat": 4,
 "nbformat_minor": 2
}
