{
 "cells": [
  {
   "cell_type": "code",
   "execution_count": 38,
   "metadata": {},
   "outputs": [],
   "source": [
    "import openeo\n",
    "#import xarray as xr"
   ]
  },
  {
   "cell_type": "code",
   "execution_count": null,
   "metadata": {},
   "outputs": [],
   "source": [
    "def time_series_at_coords(connection, coords, instrument, start_date, end_date, time_chunk = 30):"
   ]
  },
  {
   "cell_type": "code",
   "execution_count": 11,
   "metadata": {},
   "outputs": [
    {
     "name": "stdout",
     "output_type": "stream",
     "text": [
      "Authenticated using refresh token.\n"
     ]
    }
   ],
   "source": [
    "connection = openeo.connect('earthengine.openeo.org/v1.0').authenticate_oidc(client_id='1029015703668-btbgi4lvp2q35g08fugsauds97sutnfd.apps.googleusercontent.com',\n",
    "                                                                             client_secret='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')"
   ]
  },
  {
   "cell_type": "code",
   "execution_count": 39,
   "metadata": {},
   "outputs": [
    {
     "name": "stdout",
     "output_type": "stream",
     "text": [
      "Authenticated using refresh token.\n"
     ]
    }
   ],
   "source": [
    "#connection = openeo.connect('https://openeocloud.vito.be/openeo/1.0.0').authenticate_oidc()\n",
    "connection = openeo.connect(\"openeo.dataspace.copernicus.eu/openeo/1.2\").authenticate_oidc()"
   ]
  },
  {
   "cell_type": "code",
   "execution_count": 3,
   "metadata": {},
   "outputs": [],
   "source": [
    "latlonIDs = [[54.3167,10.05,7504.0], [54.4333,9.8167,7521.0], [53.95,10.6833,7539.0]]\n"
   ]
  },
  {
   "cell_type": "code",
   "execution_count": 4,
   "metadata": {},
   "outputs": [],
   "source": [
    "def datacube_location_list(coords_list, IDs_list):\n",
    "    locs_for_datacube =   { \"type\": \"FeatureCollection\",\n",
    "        \"features\": []\n",
    "    }\n",
    "    for coord_index, coords in enumerate(coords_list):\n",
    "        locs_for_datacube[\"features\"].append({\"type\": \"Feature\", \"properties\": {'name':IDs_list[coord_index]}, \"geometry\": {\"type\": \"Point\", \"coordinates\": coords[:2]}})\n",
    "    return locs_for_datacube"
   ]
  },
  {
   "cell_type": "code",
   "execution_count": 28,
   "metadata": {},
   "outputs": [],
   "source": [
    "def datacube_box(coords, ID, box_width=0.002):\n",
    "    locs_for_datacube =   { \"type\": \"Polygon\",\n",
    "                           \"properties\": {'name':ID},\n",
    "                           \"coordinates\": [[[coords[1] - box_width, coords[0] - box_width], \n",
    "                                           [coords[1] - box_width, coords[0] + box_width], \n",
    "                                           [coords[1] + box_width, coords[0] + box_width], \n",
    "                                           [coords[1] + box_width, coords[0] - box_width], \n",
    "                                           [coords[1] - box_width, coords[0] - box_width]]],\n",
    "    }\n",
    "    #for coord_index, coords in enumerate(coords_list):\n",
    "    #    locs_for_datacube[\"features\"].append({\"type\": \"Feature\", \"properties\": {'name':IDs_list[coord_index]}, \"geometry\": {\"type\": \"Polygon\", \"coordinates\": [[coords[1] - box_width, coords[0] - box_width], [coords[1] - box_width, coords[0] + box_width], [coords[1] + box_width, coords[0] + box_width], [coords[1] + box_width, coords[0] - box_width]]}})\n",
    "    return locs_for_datacube"
   ]
  },
  {
   "cell_type": "code",
   "execution_count": 18,
   "metadata": {},
   "outputs": [],
   "source": [
    "locs = datacube_location_list(latlonIDs, [coords[2] for coords in latlonIDs])"
   ]
  },
  {
   "cell_type": "code",
   "execution_count": 19,
   "metadata": {},
   "outputs": [
    {
     "data": {
      "text/plain": [
       "{'type': 'FeatureCollection',\n",
       " 'features': [{'type': 'Feature',\n",
       "   'properties': {'name': 7504.0},\n",
       "   'geometry': {'type': 'Polygon',\n",
       "    'coordinates': [[10.048, 54.314699999999995],\n",
       "     [10.048, 54.3187],\n",
       "     [10.052000000000001, 54.3187],\n",
       "     [10.052000000000001, 54.314699999999995]]}},\n",
       "  {'type': 'Feature',\n",
       "   'properties': {'name': 7521.0},\n",
       "   'geometry': {'type': 'Polygon',\n",
       "    'coordinates': [[9.8147, 54.4313],\n",
       "     [9.8147, 54.435300000000005],\n",
       "     [9.818700000000002, 54.435300000000005],\n",
       "     [9.818700000000002, 54.4313]]}},\n",
       "  {'type': 'Feature',\n",
       "   'properties': {'name': 7539.0},\n",
       "   'geometry': {'type': 'Polygon',\n",
       "    'coordinates': [[10.681299999999998, 53.948],\n",
       "     [10.681299999999998, 53.952000000000005],\n",
       "     [10.6853, 53.952000000000005],\n",
       "     [10.6853, 53.948]]}}]}"
      ]
     },
     "execution_count": 19,
     "metadata": {},
     "output_type": "execute_result"
    }
   ],
   "source": [
    "locs"
   ]
  },
  {
   "cell_type": "code",
   "execution_count": 5,
   "metadata": {},
   "outputs": [
    {
     "data": {
      "text/plain": [
       "[[54.3167, 10.05, 7504.0], [54.4333, 9.8167, 7521.0], [53.95, 10.6833, 7539.0]]"
      ]
     },
     "execution_count": 5,
     "metadata": {},
     "output_type": "execute_result"
    }
   ],
   "source": [
    "latlonIDs"
   ]
  },
  {
   "cell_type": "code",
   "execution_count": 41,
   "metadata": {},
   "outputs": [
    {
     "name": "stdout",
     "output_type": "stream",
     "text": [
      "0:00:00 Job 'j-241212969ae042a6a2bf9f43b9fec117': send 'start'\n",
      "0:00:16 Job 'j-241212969ae042a6a2bf9f43b9fec117': created (progress 0%)\n",
      "0:00:21 Job 'j-241212969ae042a6a2bf9f43b9fec117': created (progress 0%)\n",
      "0:00:28 Job 'j-241212969ae042a6a2bf9f43b9fec117': created (progress 0%)\n",
      "0:00:36 Job 'j-241212969ae042a6a2bf9f43b9fec117': created (progress 0%)\n",
      "0:00:46 Job 'j-241212969ae042a6a2bf9f43b9fec117': created (progress 0%)\n",
      "0:00:58 Job 'j-241212969ae042a6a2bf9f43b9fec117': created (progress 0%)\n",
      "0:01:13 Job 'j-241212969ae042a6a2bf9f43b9fec117': created (progress 0%)\n",
      "0:01:33 Job 'j-241212969ae042a6a2bf9f43b9fec117': created (progress 0%)\n",
      "0:01:57 Job 'j-241212969ae042a6a2bf9f43b9fec117': created (progress 0%)\n",
      "0:02:27 Job 'j-241212969ae042a6a2bf9f43b9fec117': created (progress 0%)\n",
      "0:03:04 Job 'j-241212969ae042a6a2bf9f43b9fec117': queued (progress 0%)\n",
      "0:03:51 Job 'j-241212969ae042a6a2bf9f43b9fec117': queued (progress 0%)\n",
      "0:04:57 Job 'j-241212969ae042a6a2bf9f43b9fec117': queued (progress 0%)\n",
      "0:05:57 Job 'j-241212969ae042a6a2bf9f43b9fec117': running (progress N/A)\n",
      "0:06:58 Job 'j-241212969ae042a6a2bf9f43b9fec117': running (progress N/A)\n",
      "0:07:58 Job 'j-241212969ae042a6a2bf9f43b9fec117': running (progress N/A)\n",
      "0:08:58 Job 'j-241212969ae042a6a2bf9f43b9fec117': running (progress N/A)\n",
      "0:09:58 Job 'j-241212969ae042a6a2bf9f43b9fec117': running (progress N/A)\n",
      "0:10:58 Job 'j-241212969ae042a6a2bf9f43b9fec117': running (progress N/A)\n",
      "0:11:58 Job 'j-241212969ae042a6a2bf9f43b9fec117': running (progress N/A)\n",
      "0:13:00 Job 'j-241212969ae042a6a2bf9f43b9fec117': running (progress N/A)\n",
      "0:14:00 Job 'j-241212969ae042a6a2bf9f43b9fec117': running (progress N/A)\n",
      "0:15:00 Job 'j-241212969ae042a6a2bf9f43b9fec117': running (progress N/A)\n",
      "0:16:01 Job 'j-241212969ae042a6a2bf9f43b9fec117': running (progress N/A)\n",
      "0:17:01 Job 'j-241212969ae042a6a2bf9f43b9fec117': running (progress N/A)\n",
      "0:18:01 Job 'j-241212969ae042a6a2bf9f43b9fec117': running (progress N/A)\n",
      "0:19:01 Job 'j-241212969ae042a6a2bf9f43b9fec117': finished (progress 100%)\n"
     ]
    },
    {
     "name": "stderr",
     "output_type": "stream",
     "text": [
      "C:\\Users\\wlwc1989\\AppData\\Local\\Temp\\ipykernel_9664\\3868306853.py:28: UserDeprecationWarning: Call to deprecated method download_results. (Instead use `BatchJob.get_results` and the more flexible download functionality of `JobResults`) -- Deprecated since version 0.4.10.\n",
      "  jobbed = job.download_results(\"C:\\\\Users\\\\wlwc1989\\\\Documents\\\\Phenology_Test_Notebooks\\\\phenology_dwd\\\\downloads\")\n",
      "c:\\ProgramData\\anaconda3\\envs\\Phenology\\Lib\\site-packages\\openeo\\rest\\job.py:173: UserDeprecationWarning: Call to deprecated method get_result. (Use `BatchJob.get_results` instead.) -- Deprecated since version 0.4.10.\n",
      "  return self.get_result().download_files(target)\n",
      "c:\\ProgramData\\anaconda3\\envs\\Phenology\\Lib\\site-packages\\openeo\\rest\\job.py:177: UserDeprecationWarning: Call to deprecated class _Result. (Use `JobResults` instead) -- Deprecated since version 0.4.10.\n",
      "  return _Result(self)\n"
     ]
    }
   ],
   "source": [
    "for location in latlonIDs[:1]:\n",
    "    #locs_for_datacube = {\"type\": \"Point\", \"properties\": {'name':int(location[2])}, \"coordinates\": location[:2]}\n",
    "    locs_for_datacube = datacube_location_list([location], [int(location[2])])\n",
    "    datacube = connection.load_collection(\n",
    "        \"SENTINEL2_L2A\",\n",
    "        #spatial_extent={\"west\": 5, \"south\": 47, \"east\": 16, \"north\": 56},\n",
    "        temporal_extent=[\"2000-01-01\", \"2020-12-31\"],\n",
    "        bands=[\"B04\", \"B08\"]\n",
    "        )\n",
    "    #datacube = connection.load_collection(\n",
    "    #    \"COPERNICUS/S2_SR_HARMONIZED\",\n",
    "    #    #spatial_extent={\"west\": 5, \"south\": 47, \"east\": 16, \"north\": 56},\n",
    "    #    temporal_extent=[\"2000-01-01\", \"2020-12-31\"],\n",
    "    #    bands=[\"B4\", \"B8\"]\n",
    "    #)\n",
    "    box_width = 0.004/2\n",
    "    locationed = datacube.filter_bbox([location[1] - box_width, location[0] - box_width, location[1] + box_width, location[0] + box_width])\n",
    "    #locationed = datacube.filter_spatial(geometries=datacube_box(location[:2], int(location[2]), box_width = 0.1))\n",
    "    res = locationed.save_result(format = \"NetCDF\", options = {'filename_prefix':f'Station_long_satellites_{int(location[2])}'})#format = \"GIF\", \n",
    "    #                             options = {'filename_prefix':f'Station_long_satellites_{int(location[2])}',\n",
    "    #                                        'collectionRenderer':'filmstrip'})\n",
    "    #job = locationed.create_job(title=f'Station_satellites_{int(location[2])}',\n",
    "    #    description=\"Sentinel-2 L2A bands\",\n",
    "    #    out_format=\"NetCDF\",\n",
    "    #    options = {'filename_prefix':f'Station_satellites_{int(location[2])}'}\n",
    "    #    )\n",
    "    job = res.execute_batch(title=f'Station_long_satellites_{int(location[2])}')\n",
    "    jobbed = job.download_results(\"C:\\\\Users\\\\wlwc1989\\\\Documents\\\\Phenology_Test_Notebooks\\\\phenology_dwd\\\\downloads\")\n",
    "    #job.start()"
   ]
  },
  {
   "cell_type": "code",
   "execution_count": null,
   "metadata": {},
   "outputs": [],
   "source": []
  },
  {
   "cell_type": "code",
   "execution_count": 5,
   "metadata": {},
   "outputs": [
    {
     "ename": "OpenEoApiError",
     "evalue": "[401] TokenExchangeFailure: Authentication failed. Please login on our marketplace web https://portal.terrascope.be first, and then try authenticate again. (ref: r-241211b6073445f9a115009ec236808e)",
     "output_type": "error",
     "traceback": [
      "\u001b[1;31m---------------------------------------------------------------------------\u001b[0m",
      "\u001b[1;31mOpenEoApiError\u001b[0m                            Traceback (most recent call last)",
      "Cell \u001b[1;32mIn[5], line 18\u001b[0m\n\u001b[0;32m     12\u001b[0m job \u001b[38;5;241m=\u001b[39m locationed\u001b[38;5;241m.\u001b[39mcreate_job(title\u001b[38;5;241m=\u001b[39m\u001b[38;5;124mf\u001b[39m\u001b[38;5;124m'\u001b[39m\u001b[38;5;124mStation_satellites_\u001b[39m\u001b[38;5;132;01m{\u001b[39;00m\u001b[38;5;28mint\u001b[39m(location[\u001b[38;5;241m2\u001b[39m])\u001b[38;5;132;01m}\u001b[39;00m\u001b[38;5;124m'\u001b[39m,\n\u001b[0;32m     13\u001b[0m     description\u001b[38;5;241m=\u001b[39m\u001b[38;5;124m\"\u001b[39m\u001b[38;5;124mSentinel-2 L2A bands\u001b[39m\u001b[38;5;124m\"\u001b[39m,\n\u001b[0;32m     14\u001b[0m     out_format\u001b[38;5;241m=\u001b[39m\u001b[38;5;124m\"\u001b[39m\u001b[38;5;124mNetCDF\u001b[39m\u001b[38;5;124m\"\u001b[39m,\n\u001b[0;32m     15\u001b[0m     options \u001b[38;5;241m=\u001b[39m {\u001b[38;5;124m'\u001b[39m\u001b[38;5;124mfilename_prefix\u001b[39m\u001b[38;5;124m'\u001b[39m:\u001b[38;5;124mf\u001b[39m\u001b[38;5;124m'\u001b[39m\u001b[38;5;124mStation_satellites_\u001b[39m\u001b[38;5;132;01m{\u001b[39;00m\u001b[38;5;28mint\u001b[39m(location[\u001b[38;5;241m2\u001b[39m])\u001b[38;5;132;01m}\u001b[39;00m\u001b[38;5;124m'\u001b[39m}\n\u001b[0;32m     16\u001b[0m     )\n\u001b[0;32m     17\u001b[0m \u001b[38;5;66;03m#job = res.execute_batch(title=f'Station_satellites_{location[2]}')\u001b[39;00m\n\u001b[1;32m---> 18\u001b[0m job\u001b[38;5;241m.\u001b[39mstart()\n",
      "File \u001b[1;32mc:\\ProgramData\\anaconda3\\envs\\Phenology\\Lib\\site-packages\\openeo\\rest\\job.py:122\u001b[0m, in \u001b[0;36mBatchJob.start\u001b[1;34m(self)\u001b[0m\n\u001b[0;32m    112\u001b[0m \u001b[38;5;129m@openeo_endpoint\u001b[39m(\u001b[38;5;124m\"\u001b[39m\u001b[38;5;124mPOST /jobs/\u001b[39m\u001b[38;5;132;01m{job_id}\u001b[39;00m\u001b[38;5;124m/results\u001b[39m\u001b[38;5;124m\"\u001b[39m)\n\u001b[0;32m    113\u001b[0m \u001b[38;5;28;01mdef\u001b[39;00m \u001b[38;5;21mstart\u001b[39m(\u001b[38;5;28mself\u001b[39m) \u001b[38;5;241m-\u001b[39m\u001b[38;5;241m>\u001b[39m BatchJob:\n\u001b[0;32m    114\u001b[0m \u001b[38;5;250m    \u001b[39m\u001b[38;5;124;03m\"\"\"\u001b[39;00m\n\u001b[0;32m    115\u001b[0m \u001b[38;5;124;03m    Start this batch job.\u001b[39;00m\n\u001b[0;32m    116\u001b[0m \n\u001b[1;32m   (...)\u001b[0m\n\u001b[0;32m    120\u001b[0m \u001b[38;5;124;03m        This method was previously called :py:meth:`start_job`.\u001b[39;00m\n\u001b[0;32m    121\u001b[0m \u001b[38;5;124;03m    \"\"\"\u001b[39;00m\n\u001b[1;32m--> 122\u001b[0m     \u001b[38;5;28mself\u001b[39m\u001b[38;5;241m.\u001b[39mconnection\u001b[38;5;241m.\u001b[39mpost(\u001b[38;5;124mf\u001b[39m\u001b[38;5;124m\"\u001b[39m\u001b[38;5;124m/jobs/\u001b[39m\u001b[38;5;132;01m{\u001b[39;00m\u001b[38;5;28mself\u001b[39m\u001b[38;5;241m.\u001b[39mjob_id\u001b[38;5;132;01m}\u001b[39;00m\u001b[38;5;124m/results\u001b[39m\u001b[38;5;124m\"\u001b[39m, expected_status\u001b[38;5;241m=\u001b[39m\u001b[38;5;241m202\u001b[39m)\n\u001b[0;32m    123\u001b[0m     \u001b[38;5;28;01mreturn\u001b[39;00m \u001b[38;5;28mself\u001b[39m\n",
      "File \u001b[1;32mc:\\ProgramData\\anaconda3\\envs\\Phenology\\Lib\\site-packages\\openeo\\rest\\connection.py:249\u001b[0m, in \u001b[0;36mRestApiConnection.post\u001b[1;34m(self, path, json, **kwargs)\u001b[0m\n\u001b[0;32m    241\u001b[0m \u001b[38;5;28;01mdef\u001b[39;00m \u001b[38;5;21mpost\u001b[39m(\u001b[38;5;28mself\u001b[39m, path: \u001b[38;5;28mstr\u001b[39m, json: Optional[\u001b[38;5;28mdict\u001b[39m] \u001b[38;5;241m=\u001b[39m \u001b[38;5;28;01mNone\u001b[39;00m, \u001b[38;5;241m*\u001b[39m\u001b[38;5;241m*\u001b[39mkwargs) \u001b[38;5;241m-\u001b[39m\u001b[38;5;241m>\u001b[39m Response:\n\u001b[0;32m    242\u001b[0m \u001b[38;5;250m    \u001b[39m\u001b[38;5;124;03m\"\"\"\u001b[39;00m\n\u001b[0;32m    243\u001b[0m \u001b[38;5;124;03m    Do POST request to REST API.\u001b[39;00m\n\u001b[0;32m    244\u001b[0m \n\u001b[1;32m   (...)\u001b[0m\n\u001b[0;32m    247\u001b[0m \u001b[38;5;124;03m    :return: response: Response\u001b[39;00m\n\u001b[0;32m    248\u001b[0m \u001b[38;5;124;03m    \"\"\"\u001b[39;00m\n\u001b[1;32m--> 249\u001b[0m     \u001b[38;5;28;01mreturn\u001b[39;00m \u001b[38;5;28mself\u001b[39m\u001b[38;5;241m.\u001b[39mrequest(\u001b[38;5;124m\"\u001b[39m\u001b[38;5;124mpost\u001b[39m\u001b[38;5;124m\"\u001b[39m, path\u001b[38;5;241m=\u001b[39mpath, json\u001b[38;5;241m=\u001b[39mjson, allow_redirects\u001b[38;5;241m=\u001b[39m\u001b[38;5;28;01mFalse\u001b[39;00m, \u001b[38;5;241m*\u001b[39m\u001b[38;5;241m*\u001b[39mkwargs)\n",
      "File \u001b[1;32mc:\\ProgramData\\anaconda3\\envs\\Phenology\\Lib\\site-packages\\openeo\\rest\\connection.py:831\u001b[0m, in \u001b[0;36mConnection.request\u001b[1;34m(self, method, path, headers, auth, check_error, expected_status, **kwargs)\u001b[0m\n\u001b[0;32m    824\u001b[0m     \u001b[38;5;28;01mreturn\u001b[39;00m \u001b[38;5;28msuper\u001b[39m(Connection, \u001b[38;5;28mself\u001b[39m)\u001b[38;5;241m.\u001b[39mrequest(\n\u001b[0;32m    825\u001b[0m         method\u001b[38;5;241m=\u001b[39mmethod, path\u001b[38;5;241m=\u001b[39mpath, headers\u001b[38;5;241m=\u001b[39mheaders, auth\u001b[38;5;241m=\u001b[39mauth,\n\u001b[0;32m    826\u001b[0m         check_error\u001b[38;5;241m=\u001b[39mcheck_error, expected_status\u001b[38;5;241m=\u001b[39mexpected_status, \u001b[38;5;241m*\u001b[39m\u001b[38;5;241m*\u001b[39mkwargs,\n\u001b[0;32m    827\u001b[0m     )\n\u001b[0;32m    829\u001b[0m \u001b[38;5;28;01mtry\u001b[39;00m:\n\u001b[0;32m    830\u001b[0m     \u001b[38;5;66;03m# Initial request attempt\u001b[39;00m\n\u001b[1;32m--> 831\u001b[0m     \u001b[38;5;28;01mreturn\u001b[39;00m _request()\n\u001b[0;32m    832\u001b[0m \u001b[38;5;28;01mexcept\u001b[39;00m OpenEoApiError \u001b[38;5;28;01mas\u001b[39;00m api_exc:\n\u001b[0;32m    833\u001b[0m     \u001b[38;5;28;01mif\u001b[39;00m api_exc\u001b[38;5;241m.\u001b[39mhttp_status_code \u001b[38;5;129;01min\u001b[39;00m {\u001b[38;5;241m401\u001b[39m, \u001b[38;5;241m403\u001b[39m} \u001b[38;5;129;01mand\u001b[39;00m api_exc\u001b[38;5;241m.\u001b[39mcode \u001b[38;5;241m==\u001b[39m \u001b[38;5;124m\"\u001b[39m\u001b[38;5;124mTokenInvalid\u001b[39m\u001b[38;5;124m\"\u001b[39m:\n\u001b[0;32m    834\u001b[0m         \u001b[38;5;66;03m# Auth token expired: can we refresh?\u001b[39;00m\n",
      "File \u001b[1;32mc:\\ProgramData\\anaconda3\\envs\\Phenology\\Lib\\site-packages\\openeo\\rest\\connection.py:824\u001b[0m, in \u001b[0;36mConnection.request.<locals>._request\u001b[1;34m()\u001b[0m\n\u001b[0;32m    823\u001b[0m \u001b[38;5;28;01mdef\u001b[39;00m \u001b[38;5;21m_request\u001b[39m():\n\u001b[1;32m--> 824\u001b[0m     \u001b[38;5;28;01mreturn\u001b[39;00m \u001b[38;5;28msuper\u001b[39m(Connection, \u001b[38;5;28mself\u001b[39m)\u001b[38;5;241m.\u001b[39mrequest(\n\u001b[0;32m    825\u001b[0m         method\u001b[38;5;241m=\u001b[39mmethod, path\u001b[38;5;241m=\u001b[39mpath, headers\u001b[38;5;241m=\u001b[39mheaders, auth\u001b[38;5;241m=\u001b[39mauth,\n\u001b[0;32m    826\u001b[0m         check_error\u001b[38;5;241m=\u001b[39mcheck_error, expected_status\u001b[38;5;241m=\u001b[39mexpected_status, \u001b[38;5;241m*\u001b[39m\u001b[38;5;241m*\u001b[39mkwargs,\n\u001b[0;32m    827\u001b[0m     )\n",
      "File \u001b[1;32mc:\\ProgramData\\anaconda3\\envs\\Phenology\\Lib\\site-packages\\openeo\\rest\\connection.py:187\u001b[0m, in \u001b[0;36mRestApiConnection.request\u001b[1;34m(self, method, path, headers, auth, check_error, expected_status, **kwargs)\u001b[0m\n\u001b[0;32m    185\u001b[0m expected_status \u001b[38;5;241m=\u001b[39m ensure_list(expected_status) \u001b[38;5;28;01mif\u001b[39;00m expected_status \u001b[38;5;28;01melse\u001b[39;00m []\n\u001b[0;32m    186\u001b[0m \u001b[38;5;28;01mif\u001b[39;00m check_error \u001b[38;5;129;01mand\u001b[39;00m status \u001b[38;5;241m>\u001b[39m\u001b[38;5;241m=\u001b[39m \u001b[38;5;241m400\u001b[39m \u001b[38;5;129;01mand\u001b[39;00m status \u001b[38;5;129;01mnot\u001b[39;00m \u001b[38;5;129;01min\u001b[39;00m expected_status:\n\u001b[1;32m--> 187\u001b[0m     \u001b[38;5;28mself\u001b[39m\u001b[38;5;241m.\u001b[39m_raise_api_error(resp)\n\u001b[0;32m    188\u001b[0m \u001b[38;5;28;01mif\u001b[39;00m expected_status \u001b[38;5;129;01mand\u001b[39;00m status \u001b[38;5;129;01mnot\u001b[39;00m \u001b[38;5;129;01min\u001b[39;00m expected_status:\n\u001b[0;32m    189\u001b[0m     \u001b[38;5;28;01mraise\u001b[39;00m OpenEoRestError(\u001b[38;5;124m\"\u001b[39m\u001b[38;5;124mGot status code \u001b[39m\u001b[38;5;132;01m{s!r}\u001b[39;00m\u001b[38;5;124m for `\u001b[39m\u001b[38;5;132;01m{m}\u001b[39;00m\u001b[38;5;124m \u001b[39m\u001b[38;5;132;01m{p}\u001b[39;00m\u001b[38;5;124m` (expected \u001b[39m\u001b[38;5;132;01m{e!r}\u001b[39;00m\u001b[38;5;124m) with body \u001b[39m\u001b[38;5;132;01m{body}\u001b[39;00m\u001b[38;5;124m\"\u001b[39m\u001b[38;5;241m.\u001b[39mformat(\n\u001b[0;32m    190\u001b[0m         m\u001b[38;5;241m=\u001b[39mmethod\u001b[38;5;241m.\u001b[39mupper(), p\u001b[38;5;241m=\u001b[39mpath, s\u001b[38;5;241m=\u001b[39mstatus, e\u001b[38;5;241m=\u001b[39mexpected_status, body\u001b[38;5;241m=\u001b[39mresp\u001b[38;5;241m.\u001b[39mtext)\n\u001b[0;32m    191\u001b[0m     )\n",
      "File \u001b[1;32mc:\\ProgramData\\anaconda3\\envs\\Phenology\\Lib\\site-packages\\openeo\\rest\\connection.py:207\u001b[0m, in \u001b[0;36mRestApiConnection._raise_api_error\u001b[1;34m(self, response)\u001b[0m\n\u001b[0;32m    205\u001b[0m     error_message \u001b[38;5;241m=\u001b[39m info\u001b[38;5;241m.\u001b[39mget(\u001b[38;5;124m\"\u001b[39m\u001b[38;5;124mmessage\u001b[39m\u001b[38;5;124m\"\u001b[39m)\n\u001b[0;32m    206\u001b[0m     \u001b[38;5;28;01mif\u001b[39;00m error_code \u001b[38;5;129;01mand\u001b[39;00m \u001b[38;5;28misinstance\u001b[39m(error_code, \u001b[38;5;28mstr\u001b[39m) \u001b[38;5;129;01mand\u001b[39;00m error_message \u001b[38;5;129;01mand\u001b[39;00m \u001b[38;5;28misinstance\u001b[39m(error_message, \u001b[38;5;28mstr\u001b[39m):\n\u001b[1;32m--> 207\u001b[0m         \u001b[38;5;28;01mraise\u001b[39;00m OpenEoApiError(\n\u001b[0;32m    208\u001b[0m             http_status_code\u001b[38;5;241m=\u001b[39mstatus_code,\n\u001b[0;32m    209\u001b[0m             code\u001b[38;5;241m=\u001b[39merror_code,\n\u001b[0;32m    210\u001b[0m             message\u001b[38;5;241m=\u001b[39merror_message,\n\u001b[0;32m    211\u001b[0m             \u001b[38;5;28mid\u001b[39m\u001b[38;5;241m=\u001b[39minfo\u001b[38;5;241m.\u001b[39mget(\u001b[38;5;124m\"\u001b[39m\u001b[38;5;124mid\u001b[39m\u001b[38;5;124m\"\u001b[39m),\n\u001b[0;32m    212\u001b[0m             url\u001b[38;5;241m=\u001b[39minfo\u001b[38;5;241m.\u001b[39mget(\u001b[38;5;124m\"\u001b[39m\u001b[38;5;124murl\u001b[39m\u001b[38;5;124m\"\u001b[39m),\n\u001b[0;32m    213\u001b[0m         )\n\u001b[0;32m    215\u001b[0m \u001b[38;5;66;03m# Failed to parse it as a compliant openEO API error: show body as-is in the exception.\u001b[39;00m\n\u001b[0;32m    216\u001b[0m text \u001b[38;5;241m=\u001b[39m response\u001b[38;5;241m.\u001b[39mtext\n",
      "\u001b[1;31mOpenEoApiError\u001b[0m: [401] TokenExchangeFailure: Authentication failed. Please login on our marketplace web https://portal.terrascope.be first, and then try authenticate again. (ref: r-241211b6073445f9a115009ec236808e)"
     ]
    }
   ],
   "source": [
    "for location in latlonIDs:\n",
    "    #locs_for_datacube = {\"type\": \"Point\", \"properties\": {'name':int(location[2])}, \"coordinates\": location[:2]}\n",
    "    locs_for_datacube = datacube_location_list([location], [int(location[2])])\n",
    "    datacube = connection.load_collection(\n",
    "        \"SENTINEL2_L2A\",\n",
    "        #spatial_extent={\"west\": 5, \"south\": 47, \"east\": 16, \"north\": 56},\n",
    "        temporal_extent=[\"2000-01-01\", \"2020-12-31\"],\n",
    "        bands=[\"B04\", \"B08\"]\n",
    "        )\n",
    "    locationed = datacube.aggregate_spatial(geometries = locs_for_datacube, reducer = 'mean')\n",
    "    #res = locationed.save_result(format = \"NetCDF\", options = {'filename_prefix':f'Station_satellites_{location[2]}'})\n",
    "    job = locationed.create_job(title=f'Station_long_satellites_{int(location[2])}',\n",
    "        description=\"Sentinel-2 L2A bands\",\n",
    "        out_format=\"NetCDF\",\n",
    "        options = {'filename_prefix':f'Station_long_satellites_{int(location[2])}'}\n",
    "        )\n",
    "    #job = res.execute_batch(title=f'Station_satellites_{location[2]}')\n",
    "    job.start()#get_results().download_files(\"C:\\\\Users\\\\wlwc1989\\\\Documents\\\\Phenology_Test_Notebooks\\\\phenology_dwd\\\\downloads\")"
   ]
  },
  {
   "cell_type": "code",
   "execution_count": null,
   "metadata": {},
   "outputs": [],
   "source": []
  }
 ],
 "metadata": {
  "kernelspec": {
   "display_name": "Phenology",
   "language": "python",
   "name": "python3"
  },
  "language_info": {
   "codemirror_mode": {
    "name": "ipython",
    "version": 3
   },
   "file_extension": ".py",
   "mimetype": "text/x-python",
   "name": "python",
   "nbconvert_exporter": "python",
   "pygments_lexer": "ipython3",
   "version": "3.11.10"
  }
 },
 "nbformat": 4,
 "nbformat_minor": 2
}
