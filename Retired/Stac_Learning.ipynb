{
 "cells": [
  {
   "cell_type": "code",
   "execution_count": 3,
   "metadata": {},
   "outputs": [],
   "source": [
    "import pystac_client\n",
    "import pystac\n",
    "#import odc"
   ]
  },
  {
   "cell_type": "code",
   "execution_count": 7,
   "metadata": {},
   "outputs": [],
   "source": [
    "# Set the URL of the STAC catalog you wish to query\n",
    "url = ' https://catalogue.dataspace.copernicus.eu/stac'\n",
    "\n",
    "# Initialize a STAC client to interact with the specified STAC catalog\n",
    "catalog = pystac_client.Client.open(url) \n",
    "\n",
    "# Define the bounding box for the area of interest\n",
    "bbox = [53.6, 9.87, 53.65, 9.83]\n",
    "\n",
    "# Set the start and end dates for the temporal extent of the data query\n",
    "start_date = \"2021-02-01\"\n",
    "end_date = \"2021-05-31\"\n",
    "\n",
    "# Specify the collections to retrieve\n",
    "# 'ga_s2am_ard_3' and 'ga_s2bm_ard_3' are collection IDs for Geoscience Australia's Sentinel 2A and 2B Analysis Ready Data (ARD)\n",
    "collections = ['SENTINEL-2']\n",
    "\n",
    "# Build a query with the previously set parameters to search the STAC catalog\n",
    "query = catalog.search(\n",
    "    bbox=bbox, collections=collections, datetime=f\"{start_date}/{end_date}\"\n",
    ")\n",
    "\n",
    "# Fetch the items\n",
    "items = list(query.items())"
   ]
  },
  {
   "cell_type": "code",
   "execution_count": null,
   "metadata": {},
   "outputs": [],
   "source": []
  }
 ],
 "metadata": {
  "kernelspec": {
   "display_name": "Phenology",
   "language": "python",
   "name": "python3"
  },
  "language_info": {
   "codemirror_mode": {
    "name": "ipython",
    "version": 3
   },
   "file_extension": ".py",
   "mimetype": "text/x-python",
   "name": "python",
   "nbconvert_exporter": "python",
   "pygments_lexer": "ipython3",
   "version": "3.11.10"
  }
 },
 "nbformat": 4,
 "nbformat_minor": 2
}
