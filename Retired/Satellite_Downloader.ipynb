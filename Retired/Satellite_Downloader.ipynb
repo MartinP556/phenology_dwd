{
 "cells": [
  {
   "cell_type": "code",
   "execution_count": 1,
   "metadata": {},
   "outputs": [],
   "source": [
    "#import numpy as np\n",
    "#import pandas as pd\n",
    "#import xarray as xr\n",
    "import pystac_client\n",
    "#import pystac\n",
    "#import pyproj\n",
    "import odc.stac"
   ]
  },
  {
   "cell_type": "code",
   "execution_count": 15,
   "metadata": {},
   "outputs": [],
   "source": [
    "# Set the URL of the STAC catalog you wish to query\n",
    "#url = 'https://catalogue.dataspace.copernicus.eu/stac'\n",
    "#url = 'https://explorer.digitalearth.africa/stac'\n",
    "#url = 'https://openeocloud.vito.be/openeo/1.0.0/'\n",
    "\n",
    "url = 'https://explorer.sandbox.dea.ga.gov.au/stac'\n",
    "\n",
    "# Initialize a STAC client to interact with the specified STAC catalog\n",
    "catalog = pystac_client.Client.open(url) \n",
    "\n",
    "# Define the bounding box for the area of interest\n",
    "bbox = [53.6, 9.87, 53.65, 9.83]\n",
    "\n",
    "# Set the start and end dates for the temporal extent of the data query\n",
    "start_date = \"2021-02-01\"\n",
    "end_date = \"2021-05-31\"\n",
    "\n",
    "# Specify the collections to retrieve\n",
    "# 'ga_s2am_ard_3' and 'ga_s2bm_ard_3' are collection IDs for Geoscience Australia's Sentinel 2A and 2B Analysis Ready Data (ARD)\n",
    "#collections = ['SENTINEL2_L2A']#['SENTINEL-2']\n",
    "\n",
    "collections = ['ga_s2am_ard_3', 'ga_s2bm_ard_3']\n",
    "\n",
    "# Build a query with the previously set parameters to search the STAC catalog\n",
    "query = catalog.search(\n",
    "    bbox=bbox, collections=collections, datetime=f\"{start_date}/{end_date}\"\n",
    ")\n",
    "\n",
    "# Fetch the items\n",
    "items = list(query.items())"
   ]
  },
  {
   "cell_type": "code",
   "execution_count": 17,
   "metadata": {},
   "outputs": [
    {
     "data": {
      "text/plain": [
       "[]"
      ]
     },
     "execution_count": 17,
     "metadata": {},
     "output_type": "execute_result"
    }
   ],
   "source": [
    "items"
   ]
  },
  {
   "cell_type": "code",
   "execution_count": 4,
   "metadata": {},
   "outputs": [
    {
     "data": {
      "text/html": [
       "&lt;Item id=S2B_MSIL2A_20210207T065029_N0500_R020_T39PYL_20230530T102855.SAFE&gt;"
      ],
      "text/plain": [
       "<Item id=S2B_MSIL2A_20210207T065029_N0500_R020_T39PYL_20230530T102855.SAFE>"
      ]
     },
     "execution_count": 4,
     "metadata": {},
     "output_type": "execute_result"
    }
   ],
   "source": [
    "items[0]"
   ]
  },
  {
   "cell_type": "code",
   "execution_count": null,
   "metadata": {},
   "outputs": [],
   "source": [
    "# Define Coordinate Reference System (CRS) to which all the data should be reprojected\n",
    "crs_stac = 'EPSG:32754'\n",
    "\n",
    "# Define the pixel resolution of your data\n",
    "resolution = 10\n",
    "\n",
    "# Define the bands you want to retrieve (in this case, Blue, Green, Red, Near-Infrared (NIR) 1)\n",
    "bands= ['nbart_blue', 'nbart_green', 'nbart_red', 'nbart_nir_1']\n",
    "\n",
    "# Load satellite imagery using the `load` function from odc.stac. This function retrieves the specified bands and organizes them into an xarray dataset.\n",
    "ds = odc.stac.load(\n",
    "    items, \n",
    "    bands=bands,\n",
    "    crs=crs_stac, \n",
    "    resolution=resolution, \n",
    "    chunks={},  \n",
    "    groupby='solar_day', \n",
    "    bbox=bbox \n",
    ")"
   ]
  }
 ],
 "metadata": {
  "kernelspec": {
   "display_name": "Satellite_Downloader",
   "language": "python",
   "name": "python3"
  },
  "language_info": {
   "codemirror_mode": {
    "name": "ipython",
    "version": 3
   },
   "file_extension": ".py",
   "mimetype": "text/x-python",
   "name": "python",
   "nbconvert_exporter": "python",
   "pygments_lexer": "ipython3",
   "version": "3.11.10"
  }
 },
 "nbformat": 4,
 "nbformat_minor": 2
}
