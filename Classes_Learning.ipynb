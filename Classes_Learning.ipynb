{
 "cells": [
  {
   "cell_type": "code",
   "execution_count": 1,
   "metadata": {},
   "outputs": [
    {
     "name": "stderr",
     "output_type": "stream",
     "text": [
      "c:\\Users\\wlwc1989\\Documents\\Phenology_Test_Notebooks\\phenology_dwd\\dwd_phenpy.py:10: ParserWarning: Falling back to the 'python' engine because the 'c' engine does not support regex separators (separators > 1 char and different from '\\s+' are interpreted as regex); you can avoid this warning by specifying engine='python'.\n",
      "  station_data = pd.read_csv(\"https://opendata.dwd.de/climate_environment/CDC/help/PH_Beschreibung_Phaenologie_Stationen_Jahresmelder.txt\",sep = \";\\s+|;\\t+|;\\s+\\t+|;\\t+\\s+|;|\\s+;|\\t+;|\\s+\\t+;|\\t+\\s+;\", encoding='cp1252', on_bad_lines='skip')\n"
     ]
    }
   ],
   "source": [
    "import numpy as np\n",
    "import pandas as pd\n",
    "import xarray as xr\n",
    "import matplotlib.pyplot as plt\n",
    "import cartopy.crs as ccrs\n",
    "import cartopy.io.shapereader as shpreader\n",
    "from sklearn import tree\n",
    "import copy\n",
    "import calendar\n",
    "#import seaborn as sns\n",
    "\n",
    "import plotting\n",
    "import dataset_fctns\n",
    "import modelling_fctns\n",
    "from dwd_phenpy import Phenology_set\n",
    "\n",
    "#import openeo\n",
    "#import ee\n",
    "## Trigger the authentication flow.\n",
    "#ee.Authenticate()#(auth_mode='localhost')\n",
    "# Initialize the library.\n",
    "#ee.Initialize(project='ee-martinparker637')"
   ]
  },
  {
   "cell_type": "code",
   "execution_count": 2,
   "metadata": {},
   "outputs": [
    {
     "name": "stdout",
     "output_type": "stream",
     "text": [
      "project to new coords\n",
      "interpolate driver to station locations\n"
     ]
    }
   ],
   "source": [
    "Maize_set = Phenology_set(\"C:\\\\Users\\\\wlwc1989\\\\Documents\\\\Phenology_Test_Notebooks\\\\phenology_dwd\\\\Saved_files\\\\PH_Jahresmelder_Landwirtschaft_Kulturpflanze_Mais_1936_2023_hist.txt\")\n",
    "Maize_set.drop_columns(['Unnamed: 9'])\n",
    "Maize_set.phase_order_name([10, 12, 67, 65, 5, 6, 19, 20, 21, 24, ])\n",
    "Maize_set.get_mean_T('C:\\\\Users\\\\wlwc1989\\\\Documents\\\\Phenology_Test_Notebooks\\\\phenology_dwd\\\\Saved_files\\\\tas_hyras_5_1951_2020_v5-0_de.nc')\n",
    "Maize_set.make_input_array()\n"
   ]
  },
  {
   "cell_type": "code",
   "execution_count": 3,
   "metadata": {},
   "outputs": [
    {
     "name": "stderr",
     "output_type": "stream",
     "text": [
      "c:\\Users\\wlwc1989\\Documents\\Phenology_Test_Notebooks\\phenology_dwd\\modelling_fctns.py:16: RuntimeWarning: invalid value encountered in power\n",
      "  f_T = ( ( (2*(T - T_min)**alpha)*((T_opt - T_min)**alpha) - ((T - T_min)**(2*alpha)) ) / ((T_opt - T_min)**(2*alpha)) )**beta\n"
     ]
    },
    {
     "name": "stdout",
     "output_type": "stream",
     "text": [
      "\n",
      "\n"
     ]
    }
   ],
   "source": [
    "tp=5\n",
    "resps = [lambda x: 0.053*modelling_fctns.Wang_Engel_Temp_response(x, 8, 28, 36), lambda x: 0.055*modelling_fctns.Wang_Engel_Temp_response(x, 8, 28, 36)]\n",
    "#[lambda x: 0.0254*modelling_fctns.Wang_Engel_Temp_response(x, 0, 27.5, 40), lambda x: 0.0289*modelling_fctns.Wang_Engel_Temp_response(x, 0, 33, 44)]#0.0254, 0.0289\n",
    "thresholds = [1, 2]\n",
    "Maize_set.dev_under_response(lambda x, y: modelling_fctns.phase_dependent_response(x, y, resps, thresholds), \n",
    "                             'tas', thresholds[-1])\n",
    "Maize_set.get_phase_dates(thresholds)\n",
    "Maize_set.phase_list = ['beginning of flowering', 'yellow ripeness']\n",
    "Maize_set.get_observed_dataset()#['beginning of emergence', 'beginning of flowering', 'beginning of mil ripeness'])#\n",
    "Maize_set.get_modelled_dataset()#['beginning of emergence', 'beginning of flowering', 'beginning of mil ripeness'])#\n",
    "Maize_set.put_obs_data_in_input_array()\n",
    "Maize_set.compare_modelled_observed()\n",
    "Maize_set.get_X_y_for_ML('tas', cumulative=True, thinning_parameter=tp)\n",
    "Maize_set.subsample_X_y(subsample_frac=0.8)\n",
    "Maize_set.decision_tree(md=3)#['beginning of emergence', 'beginning of flowering', 'beginning of mil ripeness'])#\n",
    "Maize_set.ML_modelled_observed()"
   ]
  },
  {
   "cell_type": "code",
   "execution_count": 15,
   "metadata": {},
   "outputs": [
    {
     "data": {
      "text/plain": [
       "array([[7.50100e+03, 5.47833e+01, 9.43330e+00],\n",
       "       [7.50200e+03, 5.44000e+01, 1.01500e+01],\n",
       "       [7.50400e+03, 5.43167e+01, 1.00500e+01],\n",
       "       ...,\n",
       "       [1.97580e+04, 5.06574e+01, 9.91350e+00],\n",
       "       [1.97600e+04, 5.08619e+01, 1.12453e+01],\n",
       "       [1.99140e+04, 5.03168e+01, 9.36270e+00]])"
      ]
     },
     "execution_count": 15,
     "metadata": {},
     "output_type": "execute_result"
    }
   ],
   "source": []
  },
  {
   "cell_type": "code",
   "execution_count": 16,
   "metadata": {},
   "outputs": [],
   "source": [
    "# data rows of csv file\n",
    "coords = Maize_set.phen_data[['lat', 'lon', 'Stations_id']].drop_duplicates().values\n",
    "# using the savetxt\n",
    "# from the numpy module\n",
    "np.savetxt(\"C:\\\\Users\\\\wlwc1989\\\\Documents\\\\Phenology_Test_Notebooks\\\\phenology_dwd\\\\Saved_files\\\\station_coords.csv\",\n",
    "        coords,\n",
    "        delimiter =\", \",\n",
    "        fmt ='% s')"
   ]
  },
  {
   "cell_type": "code",
   "execution_count": 5,
   "metadata": {},
   "outputs": [
    {
     "data": {
      "text/plain": [
       "['GDD_driver_data',\n",
       " 'ML_modelled_observed',\n",
       " 'T_mean',\n",
       " 'X_for_ML',\n",
       " '__class__',\n",
       " '__delattr__',\n",
       " '__dict__',\n",
       " '__dir__',\n",
       " '__doc__',\n",
       " '__eq__',\n",
       " '__format__',\n",
       " '__ge__',\n",
       " '__getattribute__',\n",
       " '__getstate__',\n",
       " '__gt__',\n",
       " '__hash__',\n",
       " '__init__',\n",
       " '__init_subclass__',\n",
       " '__le__',\n",
       " '__lt__',\n",
       " '__module__',\n",
       " '__ne__',\n",
       " '__new__',\n",
       " '__reduce__',\n",
       " '__reduce_ex__',\n",
       " '__repr__',\n",
       " '__setattr__',\n",
       " '__sizeof__',\n",
       " '__str__',\n",
       " '__subclasshook__',\n",
       " '__weakref__',\n",
       " 'add_locations',\n",
       " 'compare_modelled_observed',\n",
       " 'complement_of_subsample',\n",
       " 'decision_tree',\n",
       " 'dev_under_response',\n",
       " 'drop_columns',\n",
       " 'ds_ML_modelled_observed',\n",
       " 'ds_ML_predictions_training',\n",
       " 'ds_ML_predictions_verification',\n",
       " 'ds_ML_results',\n",
       " 'ds_comparison',\n",
       " 'ds_modelled_observed',\n",
       " 'ds_observed',\n",
       " 'fit',\n",
       " 'get_X_y_for_ML',\n",
       " 'get_mean_T',\n",
       " 'get_modelled_dataset',\n",
       " 'get_observed_dataset',\n",
       " 'get_phase_dates',\n",
       " 'get_time_to_next_stage',\n",
       " 'index_time_from_emergence_day',\n",
       " 'make_input_array',\n",
       " 'model_dev_time_series',\n",
       " 'order_phen_dataset',\n",
       " 'ordered',\n",
       " 'phase_dates_array',\n",
       " 'phase_list',\n",
       " 'phase_names',\n",
       " 'phase_order_name',\n",
       " 'phen_data',\n",
       " 'put_obs_data_in_input_array',\n",
       " 'regr',\n",
       " 'station_data',\n",
       " 'subsample',\n",
       " 'subsample_X_y',\n",
       " 'training_X',\n",
       " 'training_referenzjahr',\n",
       " 'training_stationid',\n",
       " 'training_y',\n",
       " 'verification_X',\n",
       " 'verification_referenzjahr',\n",
       " 'verification_stationid',\n",
       " 'verification_y',\n",
       " 'y_for_ML']"
      ]
     },
     "execution_count": 5,
     "metadata": {},
     "output_type": "execute_result"
    }
   ],
   "source": [
    "dir(Maize_set)"
   ]
  },
  {
   "cell_type": "code",
   "execution_count": null,
   "metadata": {},
   "outputs": [],
   "source": [
    "phase_list = ['beginning of flowering', 'yellow ripeness']\n",
    "training_means = []\n",
    "for phase in phase_list:\n",
    "    training_means.append(Maize_set.ds_ML_modelled_observed.where(Maize_set.ds_ML_modelled_observed['Training'] ==True)[f'observed time emergence to {phase}'].mean())\n",
    "    print(Maize_set.ds_ML_modelled_observed.where(Maize_set.ds_ML_modelled_observed['Training'] ==False)[f'observed time emergence to {phase}'].count())\n",
    "RMSE_ML_model(Maize_set.ds_ML_modelled_observed.where(Maize_set.ds_ML_modelled_observed['Training'] ==False), phase_list, training_means)\n",
    "#plot_error_distn(Maize_set.ds_ML_modelled_observed.where(Maize_set.ds_ML_modelled_observed['Training'] ==False), phase_list, training_means)"
   ]
  },
  {
   "cell_type": "code",
   "execution_count": null,
   "metadata": {},
   "outputs": [],
   "source": [
    "phase_list = ['beginning of emergence', 'beginning of flowering', 'beginning of mil ripeness']#['beginning of emergence', 'beginning of flowering', 'beginning of mil ripeness', 'harvest']\n",
    "#Maize_set.get_observed_dataset(phase_list=phase_list)\n",
    "plotting.plot_obs_per_year(Maize_set.ds_observed, 'obs_per_year', phase_list=phase_list)\n",
    "plotting.hist2d_locations(Maize_set.ds_observed.loc[2020].dropna()['lat'], Maize_set.ds_observed.loc[2020].dropna()['lon'], bin_num=5)\n",
    "plotting.box_plot_modelled_observed(Maize_set.ds_ML_modelled_observed.where(Maize_set.ds_ML_modelled_observed['Training'] ==False), ['beginning of flowering', 'yellow ripeness'])"
   ]
  },
  {
   "cell_type": "code",
   "execution_count": 5,
   "metadata": {},
   "outputs": [],
   "source": [
    "tree_rules = tree.export_text(Maize_set.regr, feature_names=[f'Day {tp*i} cum. temp' for i in range(np.int64(np.floor(200/tp)))])\n",
    "print(Maize_set.y_for_ML)\n",
    "print(tree_rules)"
   ]
  }
 ],
 "metadata": {
  "kernelspec": {
   "display_name": "Phenology",
   "language": "python",
   "name": "python3"
  },
  "language_info": {
   "codemirror_mode": {
    "name": "ipython",
    "version": 3
   },
   "file_extension": ".py",
   "mimetype": "text/x-python",
   "name": "python",
   "nbconvert_exporter": "python",
   "pygments_lexer": "ipython3",
   "version": "3.11.10"
  }
 },
 "nbformat": 4,
 "nbformat_minor": 2
}
