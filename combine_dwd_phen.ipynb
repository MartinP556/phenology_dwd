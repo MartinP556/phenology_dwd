{
 "cells": [
  {
   "cell_type": "code",
   "execution_count": 1,
   "metadata": {},
   "outputs": [],
   "source": [
    "import numpy as np\n",
    "import pandas as pd"
   ]
  },
  {
   "cell_type": "code",
   "execution_count": 4,
   "metadata": {},
   "outputs": [],
   "source": [
    "phen_url = 'https://opendata.dwd.de/climate_environment/CDC/observations_germany/phenology/immediate_reporters/crops/historical/PH_Sofortmelder_Landwirtschaft_Kulturpflanze_Mais_ohne_Sortenangabe_1979_2023_hist.txt'\n",
    "phen_data_immediate_historic = pd.read_csv(phen_url, encoding = \"latin1\", \n",
    "                                           engine='python', \n",
    "                                           sep = r';\\s+|;\\t+|;\\s+\\t+|;\\t+\\s+|;|\\s+;|\\t+;|\\s+\\t+;|\\t+\\s+;')"
   ]
  },
  {
   "cell_type": "code",
   "execution_count": 6,
   "metadata": {},
   "outputs": [],
   "source": [
    "phen_data_immediate_historic = phen_data_immediate_historic.drop(['Unnamed: 9'], axis=1)"
   ]
  },
  {
   "cell_type": "code",
   "execution_count": 8,
   "metadata": {},
   "outputs": [],
   "source": [
    "phen_url = 'https://opendata.dwd.de/climate_environment/CDC/observations_germany/phenology/immediate_reporters/crops/recent/PH_Sofortmelder_Landwirtschaft_Kulturpflanze_Mais_ohne_Sortenangabe_akt.txt'\n",
    "phen_data_immediate_recent = pd.read_csv(phen_url, encoding = \"latin1\", \n",
    "                                           engine='python', \n",
    "                                           sep = r';\\s+|;\\t+|;\\s+\\t+|;\\t+\\s+|;|\\s+;|\\t+;|\\s+\\t+;|\\t+\\s+;')"
   ]
  },
  {
   "cell_type": "code",
   "execution_count": 10,
   "metadata": {},
   "outputs": [],
   "source": [
    "phen_data_immediate_recent = phen_data_immediate_recent.drop(['Unnamed: 9'], axis=1)"
   ]
  },
  {
   "cell_type": "code",
   "execution_count": 15,
   "metadata": {},
   "outputs": [],
   "source": [
    "phen_url = 'https://opendata.dwd.de/climate_environment/CDC/observations_germany/phenology/annual_reporters/crops/historical/PH_Jahresmelder_Landwirtschaft_Kulturpflanze_Mais_1936_2023_hist.txt'\n",
    "phen_data_annual_historic = pd.read_csv(phen_url, encoding = \"latin1\", \n",
    "                                           engine='python', \n",
    "                                           sep = r';\\s+|;\\t+|;\\s+\\t+|;\\t+\\s+|;|\\s+;|\\t+;|\\s+\\t+;|\\t+\\s+;')"
   ]
  },
  {
   "cell_type": "code",
   "execution_count": 16,
   "metadata": {},
   "outputs": [],
   "source": [
    "phen_data_annual_historic = phen_data_annual_historic.drop(['Unnamed: 9'], axis=1)"
   ]
  },
  {
   "cell_type": "code",
   "execution_count": 17,
   "metadata": {},
   "outputs": [],
   "source": [
    "phen_url = 'https://opendata.dwd.de/climate_environment/CDC/observations_germany/phenology/annual_reporters/crops/recent/PH_Jahresmelder_Landwirtschaft_Kulturpflanze_Mais_akt.txt'\n",
    "phen_data_annual_recent = pd.read_csv(phen_url, encoding = \"latin1\", \n",
    "                                           engine='python', \n",
    "                                           sep = r';\\s+|;\\t+|;\\s+\\t+|;\\t+\\s+|;|\\s+;|\\t+;|\\s+\\t+;|\\t+\\s+;')"
   ]
  },
  {
   "cell_type": "code",
   "execution_count": 18,
   "metadata": {},
   "outputs": [],
   "source": [
    "phen_data_annual_recent = phen_data_annual_recent.drop(['Unnamed: 9'], axis=1)"
   ]
  },
  {
   "cell_type": "code",
   "execution_count": 19,
   "metadata": {},
   "outputs": [
    {
     "name": "stdout",
     "output_type": "stream",
     "text": [
      "94743 4250 411730 12223\n"
     ]
    }
   ],
   "source": [
    "print(len(phen_data_immediate_historic), len(phen_data_immediate_recent), len(phen_data_annual_historic), len(phen_data_annual_recent))"
   ]
  },
  {
   "cell_type": "code",
   "execution_count": 20,
   "metadata": {},
   "outputs": [],
   "source": [
    "phen_data_annual_historic.loc[:, 'Reporting method'] = 'annual'\n",
    "phen_data_annual_historic.loc[:, 'Historic or recent'] = 'historic'\n",
    "phen_data_immediate_historic.loc[:, 'Reporting method'] = 'immediate'\n",
    "phen_data_immediate_historic.loc[:, 'Historic or recent'] = 'historic'\n",
    "phen_data_annual_recent.loc[:, 'Reporting method'] = 'annual'\n",
    "phen_data_annual_recent.loc[:, 'Historic or recent'] = 'recent'\n",
    "phen_data_immediate_recent.loc[:, 'Reporting method'] = 'immediate'\n",
    "phen_data_immediate_recent.loc[:, 'Historic or recent'] = 'recent'"
   ]
  },
  {
   "cell_type": "code",
   "execution_count": 23,
   "metadata": {},
   "outputs": [],
   "source": [
    "phen_data_full = pd.concat([phen_data_annual_historic, phen_data_annual_recent, phen_data_immediate_historic, phen_data_immediate_recent], axis=0)"
   ]
  },
  {
   "cell_type": "code",
   "execution_count": 37,
   "metadata": {},
   "outputs": [],
   "source": [
    "phen_data_full.to_csv('C:\\\\Users\\\\wlwc1989\\\\Documents\\\\Phenology_Test_Notebooks\\\\phenology_dwd\\\\Saved_files\\\\maize_phenology_full_june_2025.csv')"
   ]
  },
  {
   "cell_type": "code",
   "execution_count": 26,
   "metadata": {},
   "outputs": [],
   "source": [
    "phen_url = 'https://opendata.dwd.de/climate_environment/CDC/observations_germany/phenology/annual_reporters/crops/historical/PH_Jahresmelder_Landwirtschaft_Kulturpflanze_Mais_Spezifizierung.txt'\n",
    "phen_variety_data = pd.read_csv(phen_url, encoding = \"latin1\", \n",
    "                                           engine='python', \n",
    "                                           sep = r';\\s+|;\\t+|;\\s+\\t+|;\\t+\\s+|;|\\s+;|\\t+;|\\s+\\t+;|\\t+\\s+;')"
   ]
  },
  {
   "cell_type": "code",
   "execution_count": 28,
   "metadata": {},
   "outputs": [],
   "source": [
    "phen_variety_data = phen_variety_data.drop(['Unnamed: 11'], axis=1)"
   ]
  },
  {
   "cell_type": "code",
   "execution_count": 31,
   "metadata": {},
   "outputs": [],
   "source": [
    "phen_variety_data = phen_variety_data.rename(columns={'STATIONS_ID': 'Stations_id', 'REFERENZJAHR': 'Referenzjahr', 'OBJEKT_ID': 'Objekt_id'})"
   ]
  },
  {
   "cell_type": "code",
   "execution_count": 36,
   "metadata": {},
   "outputs": [],
   "source": [
    "phen_data_full = phen_data_full.merge(phen_variety_data, on = ['Stations_id', 'Referenzjahr', 'Objekt_id'], how='outer').dropna(subset=['Reporting method'])"
   ]
  },
  {
   "cell_type": "code",
   "execution_count": 34,
   "metadata": {},
   "outputs": [
    {
     "data": {
      "text/html": [
       "<div>\n",
       "<style scoped>\n",
       "    .dataframe tbody tr th:only-of-type {\n",
       "        vertical-align: middle;\n",
       "    }\n",
       "\n",
       "    .dataframe tbody tr th {\n",
       "        vertical-align: top;\n",
       "    }\n",
       "\n",
       "    .dataframe thead th {\n",
       "        text-align: right;\n",
       "    }\n",
       "</style>\n",
       "<table border=\"1\" class=\"dataframe\">\n",
       "  <thead>\n",
       "    <tr style=\"text-align: right;\">\n",
       "      <th></th>\n",
       "      <th>Stations_id</th>\n",
       "      <th>Referenzjahr</th>\n",
       "      <th>Qualitaetsniveau</th>\n",
       "      <th>Objekt_id</th>\n",
       "      <th>Phase_id</th>\n",
       "      <th>Eintrittsdatum</th>\n",
       "      <th>Eintrittsdatum_QB</th>\n",
       "      <th>Jultag</th>\n",
       "      <th>eor</th>\n",
       "      <th>Reporting method</th>\n",
       "      <th>Historic or recent</th>\n",
       "    </tr>\n",
       "  </thead>\n",
       "  <tbody>\n",
       "    <tr>\n",
       "      <th>0</th>\n",
       "      <td>7501</td>\n",
       "      <td>1956</td>\n",
       "      <td>10</td>\n",
       "      <td>215</td>\n",
       "      <td>10</td>\n",
       "      <td>19560512</td>\n",
       "      <td>1</td>\n",
       "      <td>132</td>\n",
       "      <td>eor</td>\n",
       "      <td>annual</td>\n",
       "      <td>historic</td>\n",
       "    </tr>\n",
       "    <tr>\n",
       "      <th>1</th>\n",
       "      <td>7501</td>\n",
       "      <td>1956</td>\n",
       "      <td>10</td>\n",
       "      <td>215</td>\n",
       "      <td>12</td>\n",
       "      <td>19560526</td>\n",
       "      <td>1</td>\n",
       "      <td>146</td>\n",
       "      <td>eor</td>\n",
       "      <td>annual</td>\n",
       "      <td>historic</td>\n",
       "    </tr>\n",
       "    <tr>\n",
       "      <th>2</th>\n",
       "      <td>7501</td>\n",
       "      <td>1957</td>\n",
       "      <td>10</td>\n",
       "      <td>215</td>\n",
       "      <td>10</td>\n",
       "      <td>19570428</td>\n",
       "      <td>1</td>\n",
       "      <td>118</td>\n",
       "      <td>eor</td>\n",
       "      <td>annual</td>\n",
       "      <td>historic</td>\n",
       "    </tr>\n",
       "    <tr>\n",
       "      <th>3</th>\n",
       "      <td>7501</td>\n",
       "      <td>1957</td>\n",
       "      <td>10</td>\n",
       "      <td>215</td>\n",
       "      <td>12</td>\n",
       "      <td>19570523</td>\n",
       "      <td>1</td>\n",
       "      <td>143</td>\n",
       "      <td>eor</td>\n",
       "      <td>annual</td>\n",
       "      <td>historic</td>\n",
       "    </tr>\n",
       "    <tr>\n",
       "      <th>4</th>\n",
       "      <td>7501</td>\n",
       "      <td>1974</td>\n",
       "      <td>10</td>\n",
       "      <td>215</td>\n",
       "      <td>24</td>\n",
       "      <td>19741028</td>\n",
       "      <td>1</td>\n",
       "      <td>301</td>\n",
       "      <td>eor</td>\n",
       "      <td>annual</td>\n",
       "      <td>historic</td>\n",
       "    </tr>\n",
       "    <tr>\n",
       "      <th>...</th>\n",
       "      <td>...</td>\n",
       "      <td>...</td>\n",
       "      <td>...</td>\n",
       "      <td>...</td>\n",
       "      <td>...</td>\n",
       "      <td>...</td>\n",
       "      <td>...</td>\n",
       "      <td>...</td>\n",
       "      <td>...</td>\n",
       "      <td>...</td>\n",
       "      <td>...</td>\n",
       "    </tr>\n",
       "    <tr>\n",
       "      <th>4245</th>\n",
       "      <td>19977</td>\n",
       "      <td>2025</td>\n",
       "      <td>1</td>\n",
       "      <td>210</td>\n",
       "      <td>10</td>\n",
       "      <td>20250416</td>\n",
       "      <td>1</td>\n",
       "      <td>106</td>\n",
       "      <td>eor</td>\n",
       "      <td>immediate</td>\n",
       "      <td>recent</td>\n",
       "    </tr>\n",
       "    <tr>\n",
       "      <th>4246</th>\n",
       "      <td>19977</td>\n",
       "      <td>2025</td>\n",
       "      <td>1</td>\n",
       "      <td>210</td>\n",
       "      <td>12</td>\n",
       "      <td>20250502</td>\n",
       "      <td>1</td>\n",
       "      <td>122</td>\n",
       "      <td>eor</td>\n",
       "      <td>immediate</td>\n",
       "      <td>recent</td>\n",
       "    </tr>\n",
       "    <tr>\n",
       "      <th>4247</th>\n",
       "      <td>19979</td>\n",
       "      <td>2025</td>\n",
       "      <td>1</td>\n",
       "      <td>210</td>\n",
       "      <td>12</td>\n",
       "      <td>20250507</td>\n",
       "      <td>1</td>\n",
       "      <td>127</td>\n",
       "      <td>eor</td>\n",
       "      <td>immediate</td>\n",
       "      <td>recent</td>\n",
       "    </tr>\n",
       "    <tr>\n",
       "      <th>4248</th>\n",
       "      <td>19996</td>\n",
       "      <td>2025</td>\n",
       "      <td>1</td>\n",
       "      <td>210</td>\n",
       "      <td>10</td>\n",
       "      <td>20250517</td>\n",
       "      <td>1</td>\n",
       "      <td>137</td>\n",
       "      <td>eor</td>\n",
       "      <td>immediate</td>\n",
       "      <td>recent</td>\n",
       "    </tr>\n",
       "    <tr>\n",
       "      <th>4249</th>\n",
       "      <td>19996</td>\n",
       "      <td>2025</td>\n",
       "      <td>1</td>\n",
       "      <td>210</td>\n",
       "      <td>12</td>\n",
       "      <td>20250531</td>\n",
       "      <td>1</td>\n",
       "      <td>151</td>\n",
       "      <td>eor</td>\n",
       "      <td>immediate</td>\n",
       "      <td>recent</td>\n",
       "    </tr>\n",
       "  </tbody>\n",
       "</table>\n",
       "<p>522946 rows × 11 columns</p>\n",
       "</div>"
      ],
      "text/plain": [
       "      Stations_id  Referenzjahr  Qualitaetsniveau  Objekt_id  Phase_id  \\\n",
       "0            7501          1956                10        215        10   \n",
       "1            7501          1956                10        215        12   \n",
       "2            7501          1957                10        215        10   \n",
       "3            7501          1957                10        215        12   \n",
       "4            7501          1974                10        215        24   \n",
       "...           ...           ...               ...        ...       ...   \n",
       "4245        19977          2025                 1        210        10   \n",
       "4246        19977          2025                 1        210        12   \n",
       "4247        19979          2025                 1        210        12   \n",
       "4248        19996          2025                 1        210        10   \n",
       "4249        19996          2025                 1        210        12   \n",
       "\n",
       "      Eintrittsdatum  Eintrittsdatum_QB  Jultag  eor Reporting method  \\\n",
       "0           19560512                  1     132  eor           annual   \n",
       "1           19560526                  1     146  eor           annual   \n",
       "2           19570428                  1     118  eor           annual   \n",
       "3           19570523                  1     143  eor           annual   \n",
       "4           19741028                  1     301  eor           annual   \n",
       "...              ...                ...     ...  ...              ...   \n",
       "4245        20250416                  1     106  eor        immediate   \n",
       "4246        20250502                  1     122  eor        immediate   \n",
       "4247        20250507                  1     127  eor        immediate   \n",
       "4248        20250517                  1     137  eor        immediate   \n",
       "4249        20250531                  1     151  eor        immediate   \n",
       "\n",
       "     Historic or recent  \n",
       "0              historic  \n",
       "1              historic  \n",
       "2              historic  \n",
       "3              historic  \n",
       "4              historic  \n",
       "...                 ...  \n",
       "4245             recent  \n",
       "4246             recent  \n",
       "4247             recent  \n",
       "4248             recent  \n",
       "4249             recent  \n",
       "\n",
       "[522946 rows x 11 columns]"
      ]
     },
     "execution_count": 34,
     "metadata": {},
     "output_type": "execute_result"
    }
   ],
   "source": [
    "phen_data_full"
   ]
  },
  {
   "cell_type": "code",
   "execution_count": null,
   "metadata": {},
   "outputs": [],
   "source": []
  }
 ],
 "metadata": {
  "kernelspec": {
   "display_name": "Data_Analysis_Revived",
   "language": "python",
   "name": "python3"
  },
  "language_info": {
   "codemirror_mode": {
    "name": "ipython",
    "version": 3
   },
   "file_extension": ".py",
   "mimetype": "text/x-python",
   "name": "python",
   "nbconvert_exporter": "python",
   "pygments_lexer": "ipython3",
   "version": "3.11.10"
  }
 },
 "nbformat": 4,
 "nbformat_minor": 2
}
