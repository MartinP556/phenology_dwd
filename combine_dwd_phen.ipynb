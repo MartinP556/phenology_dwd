{
 "cells": [
  {
   "cell_type": "code",
   "execution_count": 42,
   "metadata": {},
   "outputs": [],
   "source": [
    "import numpy as np\n",
    "import pandas as pd\n",
    "import dataset_fctns"
   ]
  },
  {
   "cell_type": "code",
   "execution_count": null,
   "metadata": {},
   "outputs": [],
   "source": [
    "phen_url = 'https://opendata.dwd.de/climate_environment/CDC/observations_germany/phenology/immediate_reporters/crops/historical/PH_Sofortmelder_Landwirtschaft_Kulturpflanze_Mais_ohne_Sortenangabe_1979_2023_hist.txt'\n",
    "phen_data_immediate_historic = pd.read_csv(phen_url, encoding = \"latin1\", \n",
    "                                           engine='python', \n",
    "                                           sep = r';\\s+|;\\t+|;\\s+\\t+|;\\t+\\s+|;|\\s+;|\\t+;|\\s+\\t+;|\\t+\\s+;')\n",
    "phen_data_immediate_historic = phen_data_immediate_historic.drop(['Unnamed: 9'], axis=1)"
   ]
  },
  {
   "cell_type": "code",
   "execution_count": 45,
   "metadata": {},
   "outputs": [
    {
     "name": "stderr",
     "output_type": "stream",
     "text": [
      "C:\\Users\\wlwc1989\\AppData\\Local\\Temp\\ipykernel_24536\\1488185347.py:1: ParserWarning: Falling back to the 'python' engine because the 'c' engine does not support regex separators (separators > 1 char and different from '\\s+' are interpreted as regex); you can avoid this warning by specifying engine='python'.\n",
      "  station_data_immediate = pd.read_csv(\"https://opendata.dwd.de/climate_environment/CDC/help/PH_Beschreibung_Phaenologie_Stationen_Sofortmelder.txt\",sep = \";\\s+|;\\t+|;\\s+\\t+|;\\t+\\s+|;|\\s+;|\\t+;|\\s+\\t+;|\\t+\\s+;\", encoding='cp1252', on_bad_lines='skip')\n"
     ]
    }
   ],
   "source": [
    "station_data_immediate = pd.read_csv(\"https://opendata.dwd.de/climate_environment/CDC/help/PH_Beschreibung_Phaenologie_Stationen_Sofortmelder.txt\",sep = \";\\s+|;\\t+|;\\s+\\t+|;\\t+\\s+|;|\\s+;|\\t+;|\\s+\\t+;|\\t+\\s+;\", encoding='cp1252', on_bad_lines='skip')\n",
    "phen_data_immediate_historic = dataset_fctns.get_station_locations(phen_data_immediate_historic, station_data_immediate, check_lists=False)"
   ]
  },
  {
   "cell_type": "code",
   "execution_count": null,
   "metadata": {},
   "outputs": [],
   "source": [
    "phen_url = 'https://opendata.dwd.de/climate_environment/CDC/observations_germany/phenology/immediate_reporters/crops/recent/PH_Sofortmelder_Landwirtschaft_Kulturpflanze_Mais_ohne_Sortenangabe_akt.txt'\n",
    "phen_data_immediate_recent = pd.read_csv(phen_url, encoding = \"latin1\", \n",
    "                                           engine='python', \n",
    "                                           sep = r';\\s+|;\\t+|;\\s+\\t+|;\\t+\\s+|;|\\s+;|\\t+;|\\s+\\t+;|\\t+\\s+;')\n",
    "phen_data_immediate_recent = phen_data_immediate_recent.drop(['Unnamed: 9'], axis=1)"
   ]
  },
  {
   "cell_type": "code",
   "execution_count": null,
   "metadata": {},
   "outputs": [],
   "source": [
    "phen_data_immediate_recent = dataset_fctns.get_station_locations(phen_data_immediate_recent, station_data_immediate, check_lists=False)"
   ]
  },
  {
   "cell_type": "code",
   "execution_count": null,
   "metadata": {},
   "outputs": [],
   "source": [
    "phen_url = 'https://opendata.dwd.de/climate_environment/CDC/observations_germany/phenology/annual_reporters/crops/historical/PH_Jahresmelder_Landwirtschaft_Kulturpflanze_Mais_1936_2023_hist.txt'\n",
    "phen_data_annual_historic = pd.read_csv(phen_url, encoding = \"latin1\", \n",
    "                                           engine='python', \n",
    "                                           sep = r';\\s+|;\\t+|;\\s+\\t+|;\\t+\\s+|;|\\s+;|\\t+;|\\s+\\t+;|\\t+\\s+;')\n",
    "phen_data_annual_historic = phen_data_annual_historic.drop(['Unnamed: 9'], axis=1)"
   ]
  },
  {
   "cell_type": "code",
   "execution_count": 52,
   "metadata": {},
   "outputs": [
    {
     "name": "stderr",
     "output_type": "stream",
     "text": [
      "C:\\Users\\wlwc1989\\AppData\\Local\\Temp\\ipykernel_24536\\3218988938.py:1: ParserWarning: Falling back to the 'python' engine because the 'c' engine does not support regex separators (separators > 1 char and different from '\\s+' are interpreted as regex); you can avoid this warning by specifying engine='python'.\n",
      "  station_data_annual = pd.read_csv(\"https://opendata.dwd.de/climate_environment/CDC/help/PH_Beschreibung_Phaenologie_Stationen_Jahresmelder.txt\",sep = \";\\s+|;\\t+|;\\s+\\t+|;\\t+\\s+|;|\\s+;|\\t+;|\\s+\\t+;|\\t+\\s+;\", encoding='cp1252', on_bad_lines='skip')\n"
     ]
    }
   ],
   "source": [
    "station_data_annual = pd.read_csv(\"https://opendata.dwd.de/climate_environment/CDC/help/PH_Beschreibung_Phaenologie_Stationen_Jahresmelder.txt\",sep = \";\\s+|;\\t+|;\\s+\\t+|;\\t+\\s+|;|\\s+;|\\t+;|\\s+\\t+;|\\t+\\s+;\", encoding='cp1252', on_bad_lines='skip')\n",
    "phen_data_annual_historic = dataset_fctns.get_station_locations(phen_data_annual_historic, station_data_annual, check_lists=True)"
   ]
  },
  {
   "cell_type": "code",
   "execution_count": null,
   "metadata": {},
   "outputs": [],
   "source": [
    "phen_url = 'https://opendata.dwd.de/climate_environment/CDC/observations_germany/phenology/annual_reporters/crops/recent/PH_Jahresmelder_Landwirtschaft_Kulturpflanze_Mais_akt.txt'\n",
    "phen_data_annual_recent = pd.read_csv(phen_url, encoding = \"latin1\", \n",
    "                                           engine='python', \n",
    "                                           sep = r';\\s+|;\\t+|;\\s+\\t+|;\\t+\\s+|;|\\s+;|\\t+;|\\s+\\t+;|\\t+\\s+;')\n",
    "phen_data_annual_recent = phen_data_annual_recent.drop(['Unnamed: 9'], axis=1)"
   ]
  },
  {
   "cell_type": "code",
   "execution_count": null,
   "metadata": {},
   "outputs": [],
   "source": [
    "phen_data_annual_recent = dataset_fctns.get_station_locations(phen_data_annual_recent, station_data_annual, check_lists=True)"
   ]
  },
  {
   "cell_type": "code",
   "execution_count": 19,
   "metadata": {},
   "outputs": [
    {
     "name": "stdout",
     "output_type": "stream",
     "text": [
      "94743 4250 411730 12223\n"
     ]
    }
   ],
   "source": [
    "print(len(phen_data_immediate_historic), len(phen_data_immediate_recent), len(phen_data_annual_historic), len(phen_data_annual_recent))"
   ]
  },
  {
   "cell_type": "code",
   "execution_count": 20,
   "metadata": {},
   "outputs": [],
   "source": [
    "phen_data_annual_historic.loc[:, 'Reporting method'] = 'annual'\n",
    "phen_data_annual_historic.loc[:, 'Historic or recent'] = 'historic'\n",
    "phen_data_immediate_historic.loc[:, 'Reporting method'] = 'immediate'\n",
    "phen_data_immediate_historic.loc[:, 'Historic or recent'] = 'historic'\n",
    "phen_data_annual_recent.loc[:, 'Reporting method'] = 'annual'\n",
    "phen_data_annual_recent.loc[:, 'Historic or recent'] = 'recent'\n",
    "phen_data_immediate_recent.loc[:, 'Reporting method'] = 'immediate'\n",
    "phen_data_immediate_recent.loc[:, 'Historic or recent'] = 'recent'"
   ]
  },
  {
   "cell_type": "code",
   "execution_count": 53,
   "metadata": {},
   "outputs": [],
   "source": [
    "phen_data_full = pd.concat([phen_data_annual_historic, phen_data_immediate_historic], axis=0)"
   ]
  },
  {
   "cell_type": "code",
   "execution_count": 58,
   "metadata": {},
   "outputs": [],
   "source": [
    "phen_data_full.to_csv('C:\\\\Users\\\\wlwc1989\\\\Documents\\\\Phenology_Test_Notebooks\\\\phenology_dwd\\\\Saved_files\\\\maize_phenology_full_june_2025.csv')"
   ]
  },
  {
   "cell_type": "code",
   "execution_count": 26,
   "metadata": {},
   "outputs": [],
   "source": [
    "phen_url = 'https://opendata.dwd.de/climate_environment/CDC/observations_germany/phenology/annual_reporters/crops/historical/PH_Jahresmelder_Landwirtschaft_Kulturpflanze_Mais_Spezifizierung.txt'\n",
    "phen_variety_data = pd.read_csv(phen_url, encoding = \"latin1\", \n",
    "                                           engine='python', \n",
    "                                           sep = r';\\s+|;\\t+|;\\s+\\t+|;\\t+\\s+|;|\\s+;|\\t+;|\\s+\\t+;|\\t+\\s+;')"
   ]
  },
  {
   "cell_type": "code",
   "execution_count": 28,
   "metadata": {},
   "outputs": [],
   "source": [
    "phen_variety_data = phen_variety_data.drop(['Unnamed: 11'], axis=1)"
   ]
  },
  {
   "cell_type": "code",
   "execution_count": 31,
   "metadata": {},
   "outputs": [],
   "source": [
    "phen_variety_data = phen_variety_data.rename(columns={'STATIONS_ID': 'Stations_id', 'REFERENZJAHR': 'Referenzjahr', 'OBJEKT_ID': 'Objekt_id'})"
   ]
  },
  {
   "cell_type": "code",
   "execution_count": 56,
   "metadata": {},
   "outputs": [],
   "source": [
    "phen_data_full = phen_data_full.merge(phen_variety_data, on = ['Stations_id', 'Referenzjahr', 'Objekt_id'], how='outer').dropna(subset=['Reporting method'])"
   ]
  }
 ],
 "metadata": {
  "kernelspec": {
   "display_name": "Data_Analysis_Revived",
   "language": "python",
   "name": "python3"
  },
  "language_info": {
   "codemirror_mode": {
    "name": "ipython",
    "version": 3
   },
   "file_extension": ".py",
   "mimetype": "text/x-python",
   "name": "python",
   "nbconvert_exporter": "python",
   "pygments_lexer": "ipython3",
   "version": "3.11.10"
  }
 },
 "nbformat": 4,
 "nbformat_minor": 2
}
